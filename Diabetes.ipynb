{
  "nbformat": 4,
  "nbformat_minor": 0,
  "metadata": {
    "colab": {
      "name": "Diabetes.ipynb",
      "provenance": [],
      "authorship_tag": "ABX9TyOs0aAft7I6/m9+nGfQloQc",
      "include_colab_link": true
    },
    "kernelspec": {
      "name": "python3",
      "display_name": "Python 3"
    },
    "accelerator": "GPU"
  },
  "cells": [
    {
      "cell_type": "markdown",
      "metadata": {
        "id": "view-in-github",
        "colab_type": "text"
      },
      "source": [
        "<a href=\"https://colab.research.google.com/github/TheKoray18/Diabetes-Classification-with-Neural-Network-/blob/main/Diabetes.ipynb\" target=\"_parent\"><img src=\"https://colab.research.google.com/assets/colab-badge.svg\" alt=\"Open In Colab\"/></a>"
      ]
    },
    {
      "cell_type": "code",
      "metadata": {
        "id": "9i3xE-92XzAy",
        "outputId": "90bfc63c-3dac-4a72-dff9-4e3e6888aa90",
        "colab": {
          "base_uri": "https://localhost:8080/",
          "height": 34
        }
      },
      "source": [
        "from google.colab import drive\n",
        "\n",
        "drive.mount('/content/drive/')"
      ],
      "execution_count": 1,
      "outputs": [
        {
          "output_type": "stream",
          "text": [
            "Mounted at /content/drive/\n"
          ],
          "name": "stdout"
        }
      ]
    },
    {
      "cell_type": "markdown",
      "metadata": {
        "id": "Gf23huvTSo76"
      },
      "source": [
        "- Datamızı Çağırıyoruz"
      ]
    },
    {
      "cell_type": "code",
      "metadata": {
        "id": "mOA3sX0OYbeK"
      },
      "source": [
        "import pandas as pd \n",
        "\n",
        "data=pd.read_csv('/content/drive/My Drive/Colab Notebooks/pima-indians-diabetes.csv')"
      ],
      "execution_count": 48,
      "outputs": []
    },
    {
      "cell_type": "markdown",
      "metadata": {
        "id": "vHU6Ti6USuLE"
      },
      "source": [
        "- Datamızın ilk 5 satırına bakıyoruz"
      ]
    },
    {
      "cell_type": "code",
      "metadata": {
        "id": "g165wusSZhOF",
        "outputId": "aa3a6bdd-2cf4-45c1-f2c6-3bc90556352f",
        "colab": {
          "base_uri": "https://localhost:8080/",
          "height": 204
        }
      },
      "source": [
        "data.head()"
      ],
      "execution_count": 49,
      "outputs": [
        {
          "output_type": "execute_result",
          "data": {
            "text/html": [
              "<div>\n",
              "<style scoped>\n",
              "    .dataframe tbody tr th:only-of-type {\n",
              "        vertical-align: middle;\n",
              "    }\n",
              "\n",
              "    .dataframe tbody tr th {\n",
              "        vertical-align: top;\n",
              "    }\n",
              "\n",
              "    .dataframe thead th {\n",
              "        text-align: right;\n",
              "    }\n",
              "</style>\n",
              "<table border=\"1\" class=\"dataframe\">\n",
              "  <thead>\n",
              "    <tr style=\"text-align: right;\">\n",
              "      <th></th>\n",
              "      <th>6</th>\n",
              "      <th>148</th>\n",
              "      <th>72</th>\n",
              "      <th>35</th>\n",
              "      <th>0</th>\n",
              "      <th>33.6</th>\n",
              "      <th>0.627</th>\n",
              "      <th>50</th>\n",
              "      <th>1</th>\n",
              "    </tr>\n",
              "  </thead>\n",
              "  <tbody>\n",
              "    <tr>\n",
              "      <th>0</th>\n",
              "      <td>1</td>\n",
              "      <td>85</td>\n",
              "      <td>66</td>\n",
              "      <td>29</td>\n",
              "      <td>0</td>\n",
              "      <td>26.6</td>\n",
              "      <td>0.351</td>\n",
              "      <td>31</td>\n",
              "      <td>0</td>\n",
              "    </tr>\n",
              "    <tr>\n",
              "      <th>1</th>\n",
              "      <td>8</td>\n",
              "      <td>183</td>\n",
              "      <td>64</td>\n",
              "      <td>0</td>\n",
              "      <td>0</td>\n",
              "      <td>23.3</td>\n",
              "      <td>0.672</td>\n",
              "      <td>32</td>\n",
              "      <td>1</td>\n",
              "    </tr>\n",
              "    <tr>\n",
              "      <th>2</th>\n",
              "      <td>1</td>\n",
              "      <td>89</td>\n",
              "      <td>66</td>\n",
              "      <td>23</td>\n",
              "      <td>94</td>\n",
              "      <td>28.1</td>\n",
              "      <td>0.167</td>\n",
              "      <td>21</td>\n",
              "      <td>0</td>\n",
              "    </tr>\n",
              "    <tr>\n",
              "      <th>3</th>\n",
              "      <td>0</td>\n",
              "      <td>137</td>\n",
              "      <td>40</td>\n",
              "      <td>35</td>\n",
              "      <td>168</td>\n",
              "      <td>43.1</td>\n",
              "      <td>2.288</td>\n",
              "      <td>33</td>\n",
              "      <td>1</td>\n",
              "    </tr>\n",
              "    <tr>\n",
              "      <th>4</th>\n",
              "      <td>5</td>\n",
              "      <td>116</td>\n",
              "      <td>74</td>\n",
              "      <td>0</td>\n",
              "      <td>0</td>\n",
              "      <td>25.6</td>\n",
              "      <td>0.201</td>\n",
              "      <td>30</td>\n",
              "      <td>0</td>\n",
              "    </tr>\n",
              "  </tbody>\n",
              "</table>\n",
              "</div>"
            ],
            "text/plain": [
              "   6  148  72  35    0  33.6  0.627  50  1\n",
              "0  1   85  66  29    0  26.6  0.351  31  0\n",
              "1  8  183  64   0    0  23.3  0.672  32  1\n",
              "2  1   89  66  23   94  28.1  0.167  21  0\n",
              "3  0  137  40  35  168  43.1  2.288  33  1\n",
              "4  5  116  74   0    0  25.6  0.201  30  0"
            ]
          },
          "metadata": {
            "tags": []
          },
          "execution_count": 49
        }
      ]
    },
    {
      "cell_type": "markdown",
      "metadata": {
        "id": "cQzN61vJS4Q0"
      },
      "source": [
        "- Datamızın bilgilerine bakıyoruz\n"
      ]
    },
    {
      "cell_type": "code",
      "metadata": {
        "id": "NJd3w5VX914z",
        "outputId": "2199c19d-4191-49d6-9270-405b43bece42",
        "colab": {
          "base_uri": "https://localhost:8080/",
          "height": 289
        }
      },
      "source": [
        "data.info()"
      ],
      "execution_count": 50,
      "outputs": [
        {
          "output_type": "stream",
          "text": [
            "<class 'pandas.core.frame.DataFrame'>\n",
            "RangeIndex: 767 entries, 0 to 766\n",
            "Data columns (total 9 columns):\n",
            " #   Column  Non-Null Count  Dtype  \n",
            "---  ------  --------------  -----  \n",
            " 0   6       767 non-null    int64  \n",
            " 1   148     767 non-null    int64  \n",
            " 2   72      767 non-null    int64  \n",
            " 3   35      767 non-null    int64  \n",
            " 4   0       767 non-null    int64  \n",
            " 5   33.6    767 non-null    float64\n",
            " 6   0.627   767 non-null    float64\n",
            " 7   50      767 non-null    int64  \n",
            " 8   1       767 non-null    int64  \n",
            "dtypes: float64(2), int64(7)\n",
            "memory usage: 54.1 KB\n"
          ],
          "name": "stdout"
        }
      ]
    },
    {
      "cell_type": "markdown",
      "metadata": {
        "id": "OeuSp8eHS8me"
      },
      "source": [
        "- Datamızda ki Missing Value değerlerine bakıyoruz"
      ]
    },
    {
      "cell_type": "code",
      "metadata": {
        "id": "asQFp3fwbXTL",
        "outputId": "cf59bd8b-e119-4939-c949-ed73d544a296",
        "colab": {
          "base_uri": "https://localhost:8080/",
          "height": 419
        }
      },
      "source": [
        "data.isnull()"
      ],
      "execution_count": 51,
      "outputs": [
        {
          "output_type": "execute_result",
          "data": {
            "text/html": [
              "<div>\n",
              "<style scoped>\n",
              "    .dataframe tbody tr th:only-of-type {\n",
              "        vertical-align: middle;\n",
              "    }\n",
              "\n",
              "    .dataframe tbody tr th {\n",
              "        vertical-align: top;\n",
              "    }\n",
              "\n",
              "    .dataframe thead th {\n",
              "        text-align: right;\n",
              "    }\n",
              "</style>\n",
              "<table border=\"1\" class=\"dataframe\">\n",
              "  <thead>\n",
              "    <tr style=\"text-align: right;\">\n",
              "      <th></th>\n",
              "      <th>6</th>\n",
              "      <th>148</th>\n",
              "      <th>72</th>\n",
              "      <th>35</th>\n",
              "      <th>0</th>\n",
              "      <th>33.6</th>\n",
              "      <th>0.627</th>\n",
              "      <th>50</th>\n",
              "      <th>1</th>\n",
              "    </tr>\n",
              "  </thead>\n",
              "  <tbody>\n",
              "    <tr>\n",
              "      <th>0</th>\n",
              "      <td>False</td>\n",
              "      <td>False</td>\n",
              "      <td>False</td>\n",
              "      <td>False</td>\n",
              "      <td>False</td>\n",
              "      <td>False</td>\n",
              "      <td>False</td>\n",
              "      <td>False</td>\n",
              "      <td>False</td>\n",
              "    </tr>\n",
              "    <tr>\n",
              "      <th>1</th>\n",
              "      <td>False</td>\n",
              "      <td>False</td>\n",
              "      <td>False</td>\n",
              "      <td>False</td>\n",
              "      <td>False</td>\n",
              "      <td>False</td>\n",
              "      <td>False</td>\n",
              "      <td>False</td>\n",
              "      <td>False</td>\n",
              "    </tr>\n",
              "    <tr>\n",
              "      <th>2</th>\n",
              "      <td>False</td>\n",
              "      <td>False</td>\n",
              "      <td>False</td>\n",
              "      <td>False</td>\n",
              "      <td>False</td>\n",
              "      <td>False</td>\n",
              "      <td>False</td>\n",
              "      <td>False</td>\n",
              "      <td>False</td>\n",
              "    </tr>\n",
              "    <tr>\n",
              "      <th>3</th>\n",
              "      <td>False</td>\n",
              "      <td>False</td>\n",
              "      <td>False</td>\n",
              "      <td>False</td>\n",
              "      <td>False</td>\n",
              "      <td>False</td>\n",
              "      <td>False</td>\n",
              "      <td>False</td>\n",
              "      <td>False</td>\n",
              "    </tr>\n",
              "    <tr>\n",
              "      <th>4</th>\n",
              "      <td>False</td>\n",
              "      <td>False</td>\n",
              "      <td>False</td>\n",
              "      <td>False</td>\n",
              "      <td>False</td>\n",
              "      <td>False</td>\n",
              "      <td>False</td>\n",
              "      <td>False</td>\n",
              "      <td>False</td>\n",
              "    </tr>\n",
              "    <tr>\n",
              "      <th>...</th>\n",
              "      <td>...</td>\n",
              "      <td>...</td>\n",
              "      <td>...</td>\n",
              "      <td>...</td>\n",
              "      <td>...</td>\n",
              "      <td>...</td>\n",
              "      <td>...</td>\n",
              "      <td>...</td>\n",
              "      <td>...</td>\n",
              "    </tr>\n",
              "    <tr>\n",
              "      <th>762</th>\n",
              "      <td>False</td>\n",
              "      <td>False</td>\n",
              "      <td>False</td>\n",
              "      <td>False</td>\n",
              "      <td>False</td>\n",
              "      <td>False</td>\n",
              "      <td>False</td>\n",
              "      <td>False</td>\n",
              "      <td>False</td>\n",
              "    </tr>\n",
              "    <tr>\n",
              "      <th>763</th>\n",
              "      <td>False</td>\n",
              "      <td>False</td>\n",
              "      <td>False</td>\n",
              "      <td>False</td>\n",
              "      <td>False</td>\n",
              "      <td>False</td>\n",
              "      <td>False</td>\n",
              "      <td>False</td>\n",
              "      <td>False</td>\n",
              "    </tr>\n",
              "    <tr>\n",
              "      <th>764</th>\n",
              "      <td>False</td>\n",
              "      <td>False</td>\n",
              "      <td>False</td>\n",
              "      <td>False</td>\n",
              "      <td>False</td>\n",
              "      <td>False</td>\n",
              "      <td>False</td>\n",
              "      <td>False</td>\n",
              "      <td>False</td>\n",
              "    </tr>\n",
              "    <tr>\n",
              "      <th>765</th>\n",
              "      <td>False</td>\n",
              "      <td>False</td>\n",
              "      <td>False</td>\n",
              "      <td>False</td>\n",
              "      <td>False</td>\n",
              "      <td>False</td>\n",
              "      <td>False</td>\n",
              "      <td>False</td>\n",
              "      <td>False</td>\n",
              "    </tr>\n",
              "    <tr>\n",
              "      <th>766</th>\n",
              "      <td>False</td>\n",
              "      <td>False</td>\n",
              "      <td>False</td>\n",
              "      <td>False</td>\n",
              "      <td>False</td>\n",
              "      <td>False</td>\n",
              "      <td>False</td>\n",
              "      <td>False</td>\n",
              "      <td>False</td>\n",
              "    </tr>\n",
              "  </tbody>\n",
              "</table>\n",
              "<p>767 rows × 9 columns</p>\n",
              "</div>"
            ],
            "text/plain": [
              "         6    148     72     35      0   33.6  0.627     50      1\n",
              "0    False  False  False  False  False  False  False  False  False\n",
              "1    False  False  False  False  False  False  False  False  False\n",
              "2    False  False  False  False  False  False  False  False  False\n",
              "3    False  False  False  False  False  False  False  False  False\n",
              "4    False  False  False  False  False  False  False  False  False\n",
              "..     ...    ...    ...    ...    ...    ...    ...    ...    ...\n",
              "762  False  False  False  False  False  False  False  False  False\n",
              "763  False  False  False  False  False  False  False  False  False\n",
              "764  False  False  False  False  False  False  False  False  False\n",
              "765  False  False  False  False  False  False  False  False  False\n",
              "766  False  False  False  False  False  False  False  False  False\n",
              "\n",
              "[767 rows x 9 columns]"
            ]
          },
          "metadata": {
            "tags": []
          },
          "execution_count": 51
        }
      ]
    },
    {
      "cell_type": "code",
      "metadata": {
        "id": "kS3H6q8m3JmE",
        "outputId": "a8c9b783-c9dd-42d1-ca51-f2357d149f06",
        "colab": {
          "base_uri": "https://localhost:8080/",
          "height": 187
        }
      },
      "source": [
        "data.isnull().any()"
      ],
      "execution_count": 52,
      "outputs": [
        {
          "output_type": "execute_result",
          "data": {
            "text/plain": [
              "6        False\n",
              "148      False\n",
              "72       False\n",
              "35       False\n",
              "0        False\n",
              "33.6     False\n",
              "0.627    False\n",
              "50       False\n",
              "1        False\n",
              "dtype: bool"
            ]
          },
          "metadata": {
            "tags": []
          },
          "execution_count": 52
        }
      ]
    },
    {
      "cell_type": "markdown",
      "metadata": {
        "id": "bttVCDVkTLJe"
      },
      "source": [
        "- Datamıza baktığımızda columns names olmadığını görmüştük\n",
        "- Bu yüzden her sütun(column) için bir uygun isim atıyoruz"
      ]
    },
    {
      "cell_type": "code",
      "metadata": {
        "id": "BsdF9BRm6Bxi"
      },
      "source": [
        "data.columns=[\"pregnancies\",\"glucose\",\"blood_pressure\",\"skin_thickness\",\"insulin\",\n",
        "                                                      \"bmi\",\"Diabetes_pedigre\",\"age\",\"outcome\"]"
      ],
      "execution_count": 54,
      "outputs": []
    },
    {
      "cell_type": "code",
      "metadata": {
        "id": "Kudfw_QT8Rmi",
        "outputId": "cfc43a50-c9b4-404d-a77a-dcd7d20f1b2b",
        "colab": {
          "base_uri": "https://localhost:8080/",
          "height": 419
        }
      },
      "source": [
        "data"
      ],
      "execution_count": 55,
      "outputs": [
        {
          "output_type": "execute_result",
          "data": {
            "text/html": [
              "<div>\n",
              "<style scoped>\n",
              "    .dataframe tbody tr th:only-of-type {\n",
              "        vertical-align: middle;\n",
              "    }\n",
              "\n",
              "    .dataframe tbody tr th {\n",
              "        vertical-align: top;\n",
              "    }\n",
              "\n",
              "    .dataframe thead th {\n",
              "        text-align: right;\n",
              "    }\n",
              "</style>\n",
              "<table border=\"1\" class=\"dataframe\">\n",
              "  <thead>\n",
              "    <tr style=\"text-align: right;\">\n",
              "      <th></th>\n",
              "      <th>pregnancies</th>\n",
              "      <th>glucose</th>\n",
              "      <th>blood_pressure</th>\n",
              "      <th>skin_thickness</th>\n",
              "      <th>insulin</th>\n",
              "      <th>bmi</th>\n",
              "      <th>Diabetes_pedigre</th>\n",
              "      <th>age</th>\n",
              "      <th>outcome</th>\n",
              "    </tr>\n",
              "  </thead>\n",
              "  <tbody>\n",
              "    <tr>\n",
              "      <th>0</th>\n",
              "      <td>1</td>\n",
              "      <td>85</td>\n",
              "      <td>66</td>\n",
              "      <td>29</td>\n",
              "      <td>0</td>\n",
              "      <td>26.6</td>\n",
              "      <td>0.351</td>\n",
              "      <td>31</td>\n",
              "      <td>0</td>\n",
              "    </tr>\n",
              "    <tr>\n",
              "      <th>1</th>\n",
              "      <td>8</td>\n",
              "      <td>183</td>\n",
              "      <td>64</td>\n",
              "      <td>0</td>\n",
              "      <td>0</td>\n",
              "      <td>23.3</td>\n",
              "      <td>0.672</td>\n",
              "      <td>32</td>\n",
              "      <td>1</td>\n",
              "    </tr>\n",
              "    <tr>\n",
              "      <th>2</th>\n",
              "      <td>1</td>\n",
              "      <td>89</td>\n",
              "      <td>66</td>\n",
              "      <td>23</td>\n",
              "      <td>94</td>\n",
              "      <td>28.1</td>\n",
              "      <td>0.167</td>\n",
              "      <td>21</td>\n",
              "      <td>0</td>\n",
              "    </tr>\n",
              "    <tr>\n",
              "      <th>3</th>\n",
              "      <td>0</td>\n",
              "      <td>137</td>\n",
              "      <td>40</td>\n",
              "      <td>35</td>\n",
              "      <td>168</td>\n",
              "      <td>43.1</td>\n",
              "      <td>2.288</td>\n",
              "      <td>33</td>\n",
              "      <td>1</td>\n",
              "    </tr>\n",
              "    <tr>\n",
              "      <th>4</th>\n",
              "      <td>5</td>\n",
              "      <td>116</td>\n",
              "      <td>74</td>\n",
              "      <td>0</td>\n",
              "      <td>0</td>\n",
              "      <td>25.6</td>\n",
              "      <td>0.201</td>\n",
              "      <td>30</td>\n",
              "      <td>0</td>\n",
              "    </tr>\n",
              "    <tr>\n",
              "      <th>...</th>\n",
              "      <td>...</td>\n",
              "      <td>...</td>\n",
              "      <td>...</td>\n",
              "      <td>...</td>\n",
              "      <td>...</td>\n",
              "      <td>...</td>\n",
              "      <td>...</td>\n",
              "      <td>...</td>\n",
              "      <td>...</td>\n",
              "    </tr>\n",
              "    <tr>\n",
              "      <th>762</th>\n",
              "      <td>10</td>\n",
              "      <td>101</td>\n",
              "      <td>76</td>\n",
              "      <td>48</td>\n",
              "      <td>180</td>\n",
              "      <td>32.9</td>\n",
              "      <td>0.171</td>\n",
              "      <td>63</td>\n",
              "      <td>0</td>\n",
              "    </tr>\n",
              "    <tr>\n",
              "      <th>763</th>\n",
              "      <td>2</td>\n",
              "      <td>122</td>\n",
              "      <td>70</td>\n",
              "      <td>27</td>\n",
              "      <td>0</td>\n",
              "      <td>36.8</td>\n",
              "      <td>0.340</td>\n",
              "      <td>27</td>\n",
              "      <td>0</td>\n",
              "    </tr>\n",
              "    <tr>\n",
              "      <th>764</th>\n",
              "      <td>5</td>\n",
              "      <td>121</td>\n",
              "      <td>72</td>\n",
              "      <td>23</td>\n",
              "      <td>112</td>\n",
              "      <td>26.2</td>\n",
              "      <td>0.245</td>\n",
              "      <td>30</td>\n",
              "      <td>0</td>\n",
              "    </tr>\n",
              "    <tr>\n",
              "      <th>765</th>\n",
              "      <td>1</td>\n",
              "      <td>126</td>\n",
              "      <td>60</td>\n",
              "      <td>0</td>\n",
              "      <td>0</td>\n",
              "      <td>30.1</td>\n",
              "      <td>0.349</td>\n",
              "      <td>47</td>\n",
              "      <td>1</td>\n",
              "    </tr>\n",
              "    <tr>\n",
              "      <th>766</th>\n",
              "      <td>1</td>\n",
              "      <td>93</td>\n",
              "      <td>70</td>\n",
              "      <td>31</td>\n",
              "      <td>0</td>\n",
              "      <td>30.4</td>\n",
              "      <td>0.315</td>\n",
              "      <td>23</td>\n",
              "      <td>0</td>\n",
              "    </tr>\n",
              "  </tbody>\n",
              "</table>\n",
              "<p>767 rows × 9 columns</p>\n",
              "</div>"
            ],
            "text/plain": [
              "     pregnancies  glucose  blood_pressure  ...  Diabetes_pedigre  age  outcome\n",
              "0              1       85              66  ...             0.351   31        0\n",
              "1              8      183              64  ...             0.672   32        1\n",
              "2              1       89              66  ...             0.167   21        0\n",
              "3              0      137              40  ...             2.288   33        1\n",
              "4              5      116              74  ...             0.201   30        0\n",
              "..           ...      ...             ...  ...               ...  ...      ...\n",
              "762           10      101              76  ...             0.171   63        0\n",
              "763            2      122              70  ...             0.340   27        0\n",
              "764            5      121              72  ...             0.245   30        0\n",
              "765            1      126              60  ...             0.349   47        1\n",
              "766            1       93              70  ...             0.315   23        0\n",
              "\n",
              "[767 rows x 9 columns]"
            ]
          },
          "metadata": {
            "tags": []
          },
          "execution_count": 55
        }
      ]
    },
    {
      "cell_type": "markdown",
      "metadata": {
        "id": "pP12JsDpUhD1"
      },
      "source": [
        "- Column Names atadıktan sonra data bilgilerimize yeniden bakıyoruz\n"
      ]
    },
    {
      "cell_type": "code",
      "metadata": {
        "id": "FDtLiZLj97mk",
        "outputId": "3cbf1197-71ac-4422-b728-277f980e55ce",
        "colab": {
          "base_uri": "https://localhost:8080/",
          "height": 289
        }
      },
      "source": [
        "data.info()"
      ],
      "execution_count": 58,
      "outputs": [
        {
          "output_type": "stream",
          "text": [
            "<class 'pandas.core.frame.DataFrame'>\n",
            "RangeIndex: 767 entries, 0 to 766\n",
            "Data columns (total 9 columns):\n",
            " #   Column            Non-Null Count  Dtype  \n",
            "---  ------            --------------  -----  \n",
            " 0   pregnancies       767 non-null    int64  \n",
            " 1   glucose           767 non-null    int64  \n",
            " 2   blood_pressure    767 non-null    int64  \n",
            " 3   skin_thickness    767 non-null    int64  \n",
            " 4   insulin           767 non-null    int64  \n",
            " 5   bmi               767 non-null    float64\n",
            " 6   Diabetes_pedigre  767 non-null    float64\n",
            " 7   age               767 non-null    int64  \n",
            " 8   outcome           767 non-null    int64  \n",
            "dtypes: float64(2), int64(7)\n",
            "memory usage: 54.1 KB\n"
          ],
          "name": "stdout"
        }
      ]
    },
    {
      "cell_type": "markdown",
      "metadata": {
        "id": "P58k4Sccpnl9"
      },
      "source": [
        "- Datamızda \"0\" olarak eksik veriler var.Bizim bunu tabiki düzeltmemiz,doldurmamız gerekiyor\n",
        "\n",
        "- İlk olarak 0 olan eksik veriyi NaN olarak düzelteceğiz"
      ]
    },
    {
      "cell_type": "code",
      "metadata": {
        "id": "usDkMoca6s4u"
      },
      "source": [
        "import numpy as np\n",
        "\n",
        "data.glucose.replace(0,np.nan,inplace=True)\n",
        "data.blood_pressure.replace(0,np.nan,inplace=True)\n",
        "data.skin_thickness.replace(0,np.nan,inplace=True)\n",
        "data.insulin.replace(0,np.nan,inplace=True)\n",
        "data.bmi.replace(0,np.nan,inplace=True)\n",
        "data.Diabetes_pedigre.replace(0,np.nan,inplace=True)\n",
        "data.age.replace(0,np.nan,inplace=True)"
      ],
      "execution_count": 59,
      "outputs": []
    },
    {
      "cell_type": "markdown",
      "metadata": {
        "id": "qccwWL_mVLNQ"
      },
      "source": [
        "- Aşağıda göreceğimiz gibi 0 olan eksik veriler NaN olmuş durumda"
      ]
    },
    {
      "cell_type": "code",
      "metadata": {
        "id": "XQqpI0Yfpmcd",
        "outputId": "47f1fd52-2399-4682-f9f5-0a96f9cc3317",
        "colab": {
          "base_uri": "https://localhost:8080/",
          "height": 204
        }
      },
      "source": [
        "data.head()"
      ],
      "execution_count": 60,
      "outputs": [
        {
          "output_type": "execute_result",
          "data": {
            "text/html": [
              "<div>\n",
              "<style scoped>\n",
              "    .dataframe tbody tr th:only-of-type {\n",
              "        vertical-align: middle;\n",
              "    }\n",
              "\n",
              "    .dataframe tbody tr th {\n",
              "        vertical-align: top;\n",
              "    }\n",
              "\n",
              "    .dataframe thead th {\n",
              "        text-align: right;\n",
              "    }\n",
              "</style>\n",
              "<table border=\"1\" class=\"dataframe\">\n",
              "  <thead>\n",
              "    <tr style=\"text-align: right;\">\n",
              "      <th></th>\n",
              "      <th>pregnancies</th>\n",
              "      <th>glucose</th>\n",
              "      <th>blood_pressure</th>\n",
              "      <th>skin_thickness</th>\n",
              "      <th>insulin</th>\n",
              "      <th>bmi</th>\n",
              "      <th>Diabetes_pedigre</th>\n",
              "      <th>age</th>\n",
              "      <th>outcome</th>\n",
              "    </tr>\n",
              "  </thead>\n",
              "  <tbody>\n",
              "    <tr>\n",
              "      <th>0</th>\n",
              "      <td>1</td>\n",
              "      <td>85.0</td>\n",
              "      <td>66.0</td>\n",
              "      <td>29.0</td>\n",
              "      <td>NaN</td>\n",
              "      <td>26.6</td>\n",
              "      <td>0.351</td>\n",
              "      <td>31</td>\n",
              "      <td>0</td>\n",
              "    </tr>\n",
              "    <tr>\n",
              "      <th>1</th>\n",
              "      <td>8</td>\n",
              "      <td>183.0</td>\n",
              "      <td>64.0</td>\n",
              "      <td>NaN</td>\n",
              "      <td>NaN</td>\n",
              "      <td>23.3</td>\n",
              "      <td>0.672</td>\n",
              "      <td>32</td>\n",
              "      <td>1</td>\n",
              "    </tr>\n",
              "    <tr>\n",
              "      <th>2</th>\n",
              "      <td>1</td>\n",
              "      <td>89.0</td>\n",
              "      <td>66.0</td>\n",
              "      <td>23.0</td>\n",
              "      <td>94.0</td>\n",
              "      <td>28.1</td>\n",
              "      <td>0.167</td>\n",
              "      <td>21</td>\n",
              "      <td>0</td>\n",
              "    </tr>\n",
              "    <tr>\n",
              "      <th>3</th>\n",
              "      <td>0</td>\n",
              "      <td>137.0</td>\n",
              "      <td>40.0</td>\n",
              "      <td>35.0</td>\n",
              "      <td>168.0</td>\n",
              "      <td>43.1</td>\n",
              "      <td>2.288</td>\n",
              "      <td>33</td>\n",
              "      <td>1</td>\n",
              "    </tr>\n",
              "    <tr>\n",
              "      <th>4</th>\n",
              "      <td>5</td>\n",
              "      <td>116.0</td>\n",
              "      <td>74.0</td>\n",
              "      <td>NaN</td>\n",
              "      <td>NaN</td>\n",
              "      <td>25.6</td>\n",
              "      <td>0.201</td>\n",
              "      <td>30</td>\n",
              "      <td>0</td>\n",
              "    </tr>\n",
              "  </tbody>\n",
              "</table>\n",
              "</div>"
            ],
            "text/plain": [
              "   pregnancies  glucose  blood_pressure  ...  Diabetes_pedigre  age  outcome\n",
              "0            1     85.0            66.0  ...             0.351   31        0\n",
              "1            8    183.0            64.0  ...             0.672   32        1\n",
              "2            1     89.0            66.0  ...             0.167   21        0\n",
              "3            0    137.0            40.0  ...             2.288   33        1\n",
              "4            5    116.0            74.0  ...             0.201   30        0\n",
              "\n",
              "[5 rows x 9 columns]"
            ]
          },
          "metadata": {
            "tags": []
          },
          "execution_count": 60
        }
      ]
    },
    {
      "cell_type": "markdown",
      "metadata": {
        "id": "b0uPxySDqRzd"
      },
      "source": [
        "- NaN olarak değiştirdiğimiz eksik verilerimizi kendi sütunundaki değerlerin ortalamasını(mean) alarak dolduracağız"
      ]
    },
    {
      "cell_type": "code",
      "metadata": {
        "id": "qsbzYb98pv-c"
      },
      "source": [
        "data.fillna(data.mean(),inplace=True)"
      ],
      "execution_count": 61,
      "outputs": []
    },
    {
      "cell_type": "markdown",
      "metadata": {
        "id": "zPLKYjobV8Wb"
      },
      "source": [
        "- Aşağıda göreceğimiz gibi eksik NaN olan eksik verilerimizi bir değer ile doldurmuş durumdayız.\n",
        "\n",
        "- Doldurmuş olduğumuz değer,o sütundaki değerlerin ortalamasına eşit olan değerdi"
      ]
    },
    {
      "cell_type": "code",
      "metadata": {
        "id": "jYcAR0jcsPkO",
        "outputId": "c62ef8aa-3219-4ead-8528-abe483becbf1",
        "colab": {
          "base_uri": "https://localhost:8080/",
          "height": 204
        }
      },
      "source": [
        "data.head()"
      ],
      "execution_count": 62,
      "outputs": [
        {
          "output_type": "execute_result",
          "data": {
            "text/html": [
              "<div>\n",
              "<style scoped>\n",
              "    .dataframe tbody tr th:only-of-type {\n",
              "        vertical-align: middle;\n",
              "    }\n",
              "\n",
              "    .dataframe tbody tr th {\n",
              "        vertical-align: top;\n",
              "    }\n",
              "\n",
              "    .dataframe thead th {\n",
              "        text-align: right;\n",
              "    }\n",
              "</style>\n",
              "<table border=\"1\" class=\"dataframe\">\n",
              "  <thead>\n",
              "    <tr style=\"text-align: right;\">\n",
              "      <th></th>\n",
              "      <th>pregnancies</th>\n",
              "      <th>glucose</th>\n",
              "      <th>blood_pressure</th>\n",
              "      <th>skin_thickness</th>\n",
              "      <th>insulin</th>\n",
              "      <th>bmi</th>\n",
              "      <th>Diabetes_pedigre</th>\n",
              "      <th>age</th>\n",
              "      <th>outcome</th>\n",
              "    </tr>\n",
              "  </thead>\n",
              "  <tbody>\n",
              "    <tr>\n",
              "      <th>0</th>\n",
              "      <td>1</td>\n",
              "      <td>85.0</td>\n",
              "      <td>66.0</td>\n",
              "      <td>29.000000</td>\n",
              "      <td>155.548223</td>\n",
              "      <td>26.6</td>\n",
              "      <td>0.351</td>\n",
              "      <td>31</td>\n",
              "      <td>0</td>\n",
              "    </tr>\n",
              "    <tr>\n",
              "      <th>1</th>\n",
              "      <td>8</td>\n",
              "      <td>183.0</td>\n",
              "      <td>64.0</td>\n",
              "      <td>29.142593</td>\n",
              "      <td>155.548223</td>\n",
              "      <td>23.3</td>\n",
              "      <td>0.672</td>\n",
              "      <td>32</td>\n",
              "      <td>1</td>\n",
              "    </tr>\n",
              "    <tr>\n",
              "      <th>2</th>\n",
              "      <td>1</td>\n",
              "      <td>89.0</td>\n",
              "      <td>66.0</td>\n",
              "      <td>23.000000</td>\n",
              "      <td>94.000000</td>\n",
              "      <td>28.1</td>\n",
              "      <td>0.167</td>\n",
              "      <td>21</td>\n",
              "      <td>0</td>\n",
              "    </tr>\n",
              "    <tr>\n",
              "      <th>3</th>\n",
              "      <td>0</td>\n",
              "      <td>137.0</td>\n",
              "      <td>40.0</td>\n",
              "      <td>35.000000</td>\n",
              "      <td>168.000000</td>\n",
              "      <td>43.1</td>\n",
              "      <td>2.288</td>\n",
              "      <td>33</td>\n",
              "      <td>1</td>\n",
              "    </tr>\n",
              "    <tr>\n",
              "      <th>4</th>\n",
              "      <td>5</td>\n",
              "      <td>116.0</td>\n",
              "      <td>74.0</td>\n",
              "      <td>29.142593</td>\n",
              "      <td>155.548223</td>\n",
              "      <td>25.6</td>\n",
              "      <td>0.201</td>\n",
              "      <td>30</td>\n",
              "      <td>0</td>\n",
              "    </tr>\n",
              "  </tbody>\n",
              "</table>\n",
              "</div>"
            ],
            "text/plain": [
              "   pregnancies  glucose  blood_pressure  ...  Diabetes_pedigre  age  outcome\n",
              "0            1     85.0            66.0  ...             0.351   31        0\n",
              "1            8    183.0            64.0  ...             0.672   32        1\n",
              "2            1     89.0            66.0  ...             0.167   21        0\n",
              "3            0    137.0            40.0  ...             2.288   33        1\n",
              "4            5    116.0            74.0  ...             0.201   30        0\n",
              "\n",
              "[5 rows x 9 columns]"
            ]
          },
          "metadata": {
            "tags": []
          },
          "execution_count": 62
        }
      ]
    },
    {
      "cell_type": "markdown",
      "metadata": {
        "id": "d-FGSTWfWPrg"
      },
      "source": [
        "- Bağımsız değişkenimiz olan outcome(diabet sonuçları) datamızdan alıyoruz\n",
        "\n",
        "- Biz outcome sınıflandırması yapacağımız için datamızdan outcome aldık\n",
        "\n",
        "- Yani hastaların diabet olup olmadığının sınıflandırılmasını yapacağız"
      ]
    },
    {
      "cell_type": "code",
      "metadata": {
        "id": "XEOw3pSRutRk"
      },
      "source": [
        "outcome=data.iloc[:,-1]"
      ],
      "execution_count": 63,
      "outputs": []
    },
    {
      "cell_type": "code",
      "metadata": {
        "id": "MJ2oHEOVuxEi",
        "outputId": "89a2a28d-e082-460b-fee1-139c2f839293",
        "colab": {
          "base_uri": "https://localhost:8080/",
          "height": 221
        }
      },
      "source": [
        "outcome"
      ],
      "execution_count": 64,
      "outputs": [
        {
          "output_type": "execute_result",
          "data": {
            "text/plain": [
              "0      0\n",
              "1      1\n",
              "2      0\n",
              "3      1\n",
              "4      0\n",
              "      ..\n",
              "762    0\n",
              "763    0\n",
              "764    0\n",
              "765    1\n",
              "766    0\n",
              "Name: outcome, Length: 767, dtype: int64"
            ]
          },
          "metadata": {
            "tags": []
          },
          "execution_count": 64
        }
      ]
    },
    {
      "cell_type": "markdown",
      "metadata": {
        "id": "DeP46SSQWv_0"
      },
      "source": [
        "- Datamızdan outcome aldığımıza göre şimdi onu bağımlı değişkenimiz olan data'mızdan siliyoruz"
      ]
    },
    {
      "cell_type": "code",
      "metadata": {
        "id": "IHhFljAusyTP"
      },
      "source": [
        "data.drop(['outcome'],axis=1,inplace=True)"
      ],
      "execution_count": 65,
      "outputs": []
    },
    {
      "cell_type": "markdown",
      "metadata": {
        "id": "esZnavytW_An"
      },
      "source": [
        "- Aşağıda göreceğimiz gibi outcome sütunu artık datamızda yok"
      ]
    },
    {
      "cell_type": "code",
      "metadata": {
        "id": "8fNMPOuis6Xh",
        "outputId": "66f5fe85-204e-467a-907f-61ca7cd45d44",
        "colab": {
          "base_uri": "https://localhost:8080/",
          "height": 419
        }
      },
      "source": [
        "data"
      ],
      "execution_count": 66,
      "outputs": [
        {
          "output_type": "execute_result",
          "data": {
            "text/html": [
              "<div>\n",
              "<style scoped>\n",
              "    .dataframe tbody tr th:only-of-type {\n",
              "        vertical-align: middle;\n",
              "    }\n",
              "\n",
              "    .dataframe tbody tr th {\n",
              "        vertical-align: top;\n",
              "    }\n",
              "\n",
              "    .dataframe thead th {\n",
              "        text-align: right;\n",
              "    }\n",
              "</style>\n",
              "<table border=\"1\" class=\"dataframe\">\n",
              "  <thead>\n",
              "    <tr style=\"text-align: right;\">\n",
              "      <th></th>\n",
              "      <th>pregnancies</th>\n",
              "      <th>glucose</th>\n",
              "      <th>blood_pressure</th>\n",
              "      <th>skin_thickness</th>\n",
              "      <th>insulin</th>\n",
              "      <th>bmi</th>\n",
              "      <th>Diabetes_pedigre</th>\n",
              "      <th>age</th>\n",
              "    </tr>\n",
              "  </thead>\n",
              "  <tbody>\n",
              "    <tr>\n",
              "      <th>0</th>\n",
              "      <td>1</td>\n",
              "      <td>85.0</td>\n",
              "      <td>66.0</td>\n",
              "      <td>29.000000</td>\n",
              "      <td>155.548223</td>\n",
              "      <td>26.6</td>\n",
              "      <td>0.351</td>\n",
              "      <td>31</td>\n",
              "    </tr>\n",
              "    <tr>\n",
              "      <th>1</th>\n",
              "      <td>8</td>\n",
              "      <td>183.0</td>\n",
              "      <td>64.0</td>\n",
              "      <td>29.142593</td>\n",
              "      <td>155.548223</td>\n",
              "      <td>23.3</td>\n",
              "      <td>0.672</td>\n",
              "      <td>32</td>\n",
              "    </tr>\n",
              "    <tr>\n",
              "      <th>2</th>\n",
              "      <td>1</td>\n",
              "      <td>89.0</td>\n",
              "      <td>66.0</td>\n",
              "      <td>23.000000</td>\n",
              "      <td>94.000000</td>\n",
              "      <td>28.1</td>\n",
              "      <td>0.167</td>\n",
              "      <td>21</td>\n",
              "    </tr>\n",
              "    <tr>\n",
              "      <th>3</th>\n",
              "      <td>0</td>\n",
              "      <td>137.0</td>\n",
              "      <td>40.0</td>\n",
              "      <td>35.000000</td>\n",
              "      <td>168.000000</td>\n",
              "      <td>43.1</td>\n",
              "      <td>2.288</td>\n",
              "      <td>33</td>\n",
              "    </tr>\n",
              "    <tr>\n",
              "      <th>4</th>\n",
              "      <td>5</td>\n",
              "      <td>116.0</td>\n",
              "      <td>74.0</td>\n",
              "      <td>29.142593</td>\n",
              "      <td>155.548223</td>\n",
              "      <td>25.6</td>\n",
              "      <td>0.201</td>\n",
              "      <td>30</td>\n",
              "    </tr>\n",
              "    <tr>\n",
              "      <th>...</th>\n",
              "      <td>...</td>\n",
              "      <td>...</td>\n",
              "      <td>...</td>\n",
              "      <td>...</td>\n",
              "      <td>...</td>\n",
              "      <td>...</td>\n",
              "      <td>...</td>\n",
              "      <td>...</td>\n",
              "    </tr>\n",
              "    <tr>\n",
              "      <th>762</th>\n",
              "      <td>10</td>\n",
              "      <td>101.0</td>\n",
              "      <td>76.0</td>\n",
              "      <td>48.000000</td>\n",
              "      <td>180.000000</td>\n",
              "      <td>32.9</td>\n",
              "      <td>0.171</td>\n",
              "      <td>63</td>\n",
              "    </tr>\n",
              "    <tr>\n",
              "      <th>763</th>\n",
              "      <td>2</td>\n",
              "      <td>122.0</td>\n",
              "      <td>70.0</td>\n",
              "      <td>27.000000</td>\n",
              "      <td>155.548223</td>\n",
              "      <td>36.8</td>\n",
              "      <td>0.340</td>\n",
              "      <td>27</td>\n",
              "    </tr>\n",
              "    <tr>\n",
              "      <th>764</th>\n",
              "      <td>5</td>\n",
              "      <td>121.0</td>\n",
              "      <td>72.0</td>\n",
              "      <td>23.000000</td>\n",
              "      <td>112.000000</td>\n",
              "      <td>26.2</td>\n",
              "      <td>0.245</td>\n",
              "      <td>30</td>\n",
              "    </tr>\n",
              "    <tr>\n",
              "      <th>765</th>\n",
              "      <td>1</td>\n",
              "      <td>126.0</td>\n",
              "      <td>60.0</td>\n",
              "      <td>29.142593</td>\n",
              "      <td>155.548223</td>\n",
              "      <td>30.1</td>\n",
              "      <td>0.349</td>\n",
              "      <td>47</td>\n",
              "    </tr>\n",
              "    <tr>\n",
              "      <th>766</th>\n",
              "      <td>1</td>\n",
              "      <td>93.0</td>\n",
              "      <td>70.0</td>\n",
              "      <td>31.000000</td>\n",
              "      <td>155.548223</td>\n",
              "      <td>30.4</td>\n",
              "      <td>0.315</td>\n",
              "      <td>23</td>\n",
              "    </tr>\n",
              "  </tbody>\n",
              "</table>\n",
              "<p>767 rows × 8 columns</p>\n",
              "</div>"
            ],
            "text/plain": [
              "     pregnancies  glucose  blood_pressure  ...   bmi  Diabetes_pedigre  age\n",
              "0              1     85.0            66.0  ...  26.6             0.351   31\n",
              "1              8    183.0            64.0  ...  23.3             0.672   32\n",
              "2              1     89.0            66.0  ...  28.1             0.167   21\n",
              "3              0    137.0            40.0  ...  43.1             2.288   33\n",
              "4              5    116.0            74.0  ...  25.6             0.201   30\n",
              "..           ...      ...             ...  ...   ...               ...  ...\n",
              "762           10    101.0            76.0  ...  32.9             0.171   63\n",
              "763            2    122.0            70.0  ...  36.8             0.340   27\n",
              "764            5    121.0            72.0  ...  26.2             0.245   30\n",
              "765            1    126.0            60.0  ...  30.1             0.349   47\n",
              "766            1     93.0            70.0  ...  30.4             0.315   23\n",
              "\n",
              "[767 rows x 8 columns]"
            ]
          },
          "metadata": {
            "tags": []
          },
          "execution_count": 66
        }
      ]
    },
    {
      "cell_type": "markdown",
      "metadata": {
        "id": "nZexCbHbXGG7"
      },
      "source": [
        "- Datamızı ölçeklendireceğiz.Standarlaştırma yapacağız.\n",
        "- Makinemiz daha iyi bir öğrenme gerçekleştirme yapması için bunu yapıyoruz\n",
        "- Modelimizin daha iyi performans gerçekleştirmesi için\n"
      ]
    },
    {
      "cell_type": "code",
      "metadata": {
        "id": "bAgS0g8G_VBc"
      },
      "source": [
        "from sklearn.preprocessing import StandardScaler\n",
        "s_sca=StandardScaler()\n",
        "\n",
        "data=s_sca.fit_transform(data)"
      ],
      "execution_count": 67,
      "outputs": []
    },
    {
      "cell_type": "code",
      "metadata": {
        "id": "_3lThoyY_oQU",
        "outputId": "8fa75467-4f0a-49e6-e67b-16f8bb98c35e",
        "colab": {
          "base_uri": "https://localhost:8080/",
          "height": 238
        }
      },
      "source": [
        "data"
      ],
      "execution_count": 68,
      "outputs": [
        {
          "output_type": "execute_result",
          "data": {
            "text/plain": [
              "array([[-0.84372629, -1.20482941, -0.52956011, ..., -0.8517715 ,\n",
              "        -0.36426474, -0.18894038],\n",
              "       [ 1.23423997,  2.01661929, -0.69489941, ..., -1.33176959,\n",
              "         0.60470064, -0.1037951 ],\n",
              "       [-0.84372629, -1.0733417 , -0.52956011, ..., -0.63359055,\n",
              "        -0.91968415, -1.0403932 ],\n",
              "       ...,\n",
              "       [ 0.343683  , -0.02144009, -0.03354219, ..., -0.90995308,\n",
              "        -0.68423462, -0.27408566],\n",
              "       [-0.84372629,  0.14291954, -1.02557802, ..., -0.34268262,\n",
              "        -0.37030191,  1.17338414],\n",
              "       [-0.84372629, -0.941854  , -0.1988815 , ..., -0.29904643,\n",
              "        -0.47293375, -0.87010264]])"
            ]
          },
          "metadata": {
            "tags": []
          },
          "execution_count": 68
        }
      ]
    },
    {
      "cell_type": "markdown",
      "metadata": {
        "id": "ckUhiKu2YMmw"
      },
      "source": [
        "- Datamızı Train ve Test Olarak Ayırıyoruz"
      ]
    },
    {
      "cell_type": "code",
      "metadata": {
        "id": "G_PrMhmttcdI"
      },
      "source": [
        "from sklearn.model_selection import train_test_split\n",
        "\n",
        "x_train,x_test,y_train,y_test=train_test_split(data,outcome,test_size=0.33,random_state=0)"
      ],
      "execution_count": 91,
      "outputs": []
    },
    {
      "cell_type": "markdown",
      "metadata": {
        "id": "RT9_0z0kYUQE"
      },
      "source": [
        "- Train ve Test Datalarımızın Boyutlarına bakıyoruz"
      ]
    },
    {
      "cell_type": "code",
      "metadata": {
        "id": "T5Y0cvEXvGG2",
        "outputId": "e61f89b9-9223-4a04-8229-dbc269d53608",
        "colab": {
          "base_uri": "https://localhost:8080/",
          "height": 85
        }
      },
      "source": [
        "print(\"x_train=\"+str(x_train.shape))\n",
        "print(\"x_test=\"+str(x_test.shape))\n",
        "print(\"y_train=\"+str(y_train.shape))\n",
        "print(\"y_test=\"+str(y_test.shape))"
      ],
      "execution_count": 92,
      "outputs": [
        {
          "output_type": "stream",
          "text": [
            "x_train=(513, 8)\n",
            "x_test=(254, 8)\n",
            "y_train=(513,)\n",
            "y_test=(254,)\n"
          ],
          "name": "stdout"
        }
      ]
    },
    {
      "cell_type": "code",
      "metadata": {
        "id": "zahFyReOviRS",
        "outputId": "bb46c0ea-3546-4bed-a484-addb930d031e",
        "colab": {
          "base_uri": "https://localhost:8080/",
          "height": 238
        }
      },
      "source": [
        "x_train"
      ],
      "execution_count": 93,
      "outputs": [
        {
          "output_type": "execute_result",
          "data": {
            "text/plain": [
              "array([[ 2.12479694,  0.53738265,  0.13179711, ...,  0.53004118,\n",
              "         0.25756351,  1.42881999],\n",
              "       [ 0.04683068,  0.96471768,  1.45451155, ..., -0.4008642 ,\n",
              "        -0.53632401,  0.23678603],\n",
              "       [ 1.82794462,  0.24153532, -0.86023872, ...,  1.27185641,\n",
              "        -0.0925922 ,  0.4070766 ],\n",
              "       ...,\n",
              "       [ 0.93738765, -0.25154357, -0.69489941, ..., -0.73540833,\n",
              "         0.78581567,  0.06649547],\n",
              "       [ 0.64053533,  0.11004761,  0.29713641, ...,  0.19549706,\n",
              "        -1.058539  ,  1.76940112],\n",
              "       [-0.54687397,  0.24153532,  0.13179711, ...,  0.10822468,\n",
              "         0.36019536, -0.69981207]])"
            ]
          },
          "metadata": {
            "tags": []
          },
          "execution_count": 93
        }
      ]
    },
    {
      "cell_type": "markdown",
      "metadata": {
        "id": "6kGP-y0GYshs"
      },
      "source": [
        "- Bizim y_train datamızın boyutu (513,).Yani 513 satırlı(row) bir datadır\n",
        "\n",
        "- Ama biz y_train yazdırdığımızda 767 tane satır sayılarından oluşan dağınık bir şekilde 513 satır oluşturuyor\n",
        "\n",
        "- Bu durum bizim modelimizi test ederken işimizi zorlaştıracak\n",
        "\n",
        "- İlk olarak reset_index() ile bir index sütunu oluşturuyoruz.Bu index sütunumuzun değerleri ise bizim sıralı olmayan dağınık şekilde sıralanan satır sayılarımız oluyor\n",
        "\n",
        "- Aynı zaman da 0'dan 513'e kadar olan satır sayıları oluşturuyor\n",
        "\n",
        "- Aşağıda göreceğiz gibi "
      ]
    },
    {
      "cell_type": "code",
      "metadata": {
        "id": "fTPhM_aHvvdE",
        "outputId": "608d6e00-dc35-4ca1-e314-f984773e6cea",
        "colab": {
          "base_uri": "https://localhost:8080/",
          "height": 419
        }
      },
      "source": [
        "y_train.reset_index()"
      ],
      "execution_count": 94,
      "outputs": [
        {
          "output_type": "execute_result",
          "data": {
            "text/html": [
              "<div>\n",
              "<style scoped>\n",
              "    .dataframe tbody tr th:only-of-type {\n",
              "        vertical-align: middle;\n",
              "    }\n",
              "\n",
              "    .dataframe tbody tr th {\n",
              "        vertical-align: top;\n",
              "    }\n",
              "\n",
              "    .dataframe thead th {\n",
              "        text-align: right;\n",
              "    }\n",
              "</style>\n",
              "<table border=\"1\" class=\"dataframe\">\n",
              "  <thead>\n",
              "    <tr style=\"text-align: right;\">\n",
              "      <th></th>\n",
              "      <th>index</th>\n",
              "      <th>outcome</th>\n",
              "    </tr>\n",
              "  </thead>\n",
              "  <tbody>\n",
              "    <tr>\n",
              "      <th>0</th>\n",
              "      <td>613</td>\n",
              "      <td>1</td>\n",
              "    </tr>\n",
              "    <tr>\n",
              "      <th>1</th>\n",
              "      <td>159</td>\n",
              "      <td>0</td>\n",
              "    </tr>\n",
              "    <tr>\n",
              "      <th>2</th>\n",
              "      <td>711</td>\n",
              "      <td>1</td>\n",
              "    </tr>\n",
              "    <tr>\n",
              "      <th>3</th>\n",
              "      <td>745</td>\n",
              "      <td>1</td>\n",
              "    </tr>\n",
              "    <tr>\n",
              "      <th>4</th>\n",
              "      <td>447</td>\n",
              "      <td>1</td>\n",
              "    </tr>\n",
              "    <tr>\n",
              "      <th>...</th>\n",
              "      <td>...</td>\n",
              "      <td>...</td>\n",
              "    </tr>\n",
              "    <tr>\n",
              "      <th>508</th>\n",
              "      <td>707</td>\n",
              "      <td>1</td>\n",
              "    </tr>\n",
              "    <tr>\n",
              "      <th>509</th>\n",
              "      <td>192</td>\n",
              "      <td>1</td>\n",
              "    </tr>\n",
              "    <tr>\n",
              "      <th>510</th>\n",
              "      <td>629</td>\n",
              "      <td>1</td>\n",
              "    </tr>\n",
              "    <tr>\n",
              "      <th>511</th>\n",
              "      <td>559</td>\n",
              "      <td>1</td>\n",
              "    </tr>\n",
              "    <tr>\n",
              "      <th>512</th>\n",
              "      <td>684</td>\n",
              "      <td>0</td>\n",
              "    </tr>\n",
              "  </tbody>\n",
              "</table>\n",
              "<p>513 rows × 2 columns</p>\n",
              "</div>"
            ],
            "text/plain": [
              "     index  outcome\n",
              "0      613        1\n",
              "1      159        0\n",
              "2      711        1\n",
              "3      745        1\n",
              "4      447        1\n",
              "..     ...      ...\n",
              "508    707        1\n",
              "509    192        1\n",
              "510    629        1\n",
              "511    559        1\n",
              "512    684        0\n",
              "\n",
              "[513 rows x 2 columns]"
            ]
          },
          "metadata": {
            "tags": []
          },
          "execution_count": 94
        }
      ]
    },
    {
      "cell_type": "markdown",
      "metadata": {
        "id": "uJgnHSiEafJt"
      },
      "source": [
        "- Bizim 0'dan 513'e kadar olan satır sayılarımız , 717'ye kadar olan dağınık olarak yani sıralı olmayan şekilde numaralandırılmış index sütunumuz ve outcome sütunumuz vardı\n",
        "\n",
        "- Şimdi biz drop=True diyerek sıralı olmayan,dağınık şekilde numaralandırılmış index sütununu datamızdan siliyoruz\n",
        "\n",
        "- Şimdi bizim y_train datamız da outcome değerlerimiz ve bu değerlere karşılık gelen satır sayılarımız oluyor\n",
        "\n",
        "- Satır sayılarımız 0'dan 513'e kadar olan sayılarımız"
      ]
    },
    {
      "cell_type": "code",
      "metadata": {
        "id": "uY3IzA2EDi03"
      },
      "source": [
        "y_train=y_train.reset_index(drop=True)"
      ],
      "execution_count": 95,
      "outputs": []
    },
    {
      "cell_type": "code",
      "metadata": {
        "id": "8Q8RS4UQ-uGg",
        "outputId": "63a10577-e014-48a4-abe0-f2b8301513fe",
        "colab": {
          "base_uri": "https://localhost:8080/",
          "height": 221
        }
      },
      "source": [
        "y_train"
      ],
      "execution_count": 96,
      "outputs": [
        {
          "output_type": "execute_result",
          "data": {
            "text/plain": [
              "0      1\n",
              "1      0\n",
              "2      1\n",
              "3      1\n",
              "4      1\n",
              "      ..\n",
              "508    1\n",
              "509    1\n",
              "510    1\n",
              "511    1\n",
              "512    0\n",
              "Name: outcome, Length: 513, dtype: int64"
            ]
          },
          "metadata": {
            "tags": []
          },
          "execution_count": 96
        }
      ]
    },
    {
      "cell_type": "markdown",
      "metadata": {
        "id": "sOhu3GZhdy1b"
      },
      "source": [
        "- y_train datamız çin yaptığımız index işlemlerimizin aynısını y_test için de gerçekleştiriyoruz"
      ]
    },
    {
      "cell_type": "code",
      "metadata": {
        "id": "GUetg6a7D9HG",
        "outputId": "dd9d289a-7e4b-49a9-effa-7a8a2d7ef799",
        "colab": {
          "base_uri": "https://localhost:8080/",
          "height": 419
        }
      },
      "source": [
        "y_test.reset_index()"
      ],
      "execution_count": 97,
      "outputs": [
        {
          "output_type": "execute_result",
          "data": {
            "text/html": [
              "<div>\n",
              "<style scoped>\n",
              "    .dataframe tbody tr th:only-of-type {\n",
              "        vertical-align: middle;\n",
              "    }\n",
              "\n",
              "    .dataframe tbody tr th {\n",
              "        vertical-align: top;\n",
              "    }\n",
              "\n",
              "    .dataframe thead th {\n",
              "        text-align: right;\n",
              "    }\n",
              "</style>\n",
              "<table border=\"1\" class=\"dataframe\">\n",
              "  <thead>\n",
              "    <tr style=\"text-align: right;\">\n",
              "      <th></th>\n",
              "      <th>index</th>\n",
              "      <th>outcome</th>\n",
              "    </tr>\n",
              "  </thead>\n",
              "  <tbody>\n",
              "    <tr>\n",
              "      <th>0</th>\n",
              "      <td>661</td>\n",
              "      <td>1</td>\n",
              "    </tr>\n",
              "    <tr>\n",
              "      <th>1</th>\n",
              "      <td>122</td>\n",
              "      <td>0</td>\n",
              "    </tr>\n",
              "    <tr>\n",
              "      <th>2</th>\n",
              "      <td>113</td>\n",
              "      <td>1</td>\n",
              "    </tr>\n",
              "    <tr>\n",
              "      <th>3</th>\n",
              "      <td>14</td>\n",
              "      <td>1</td>\n",
              "    </tr>\n",
              "    <tr>\n",
              "      <th>4</th>\n",
              "      <td>529</td>\n",
              "      <td>0</td>\n",
              "    </tr>\n",
              "    <tr>\n",
              "      <th>...</th>\n",
              "      <td>...</td>\n",
              "      <td>...</td>\n",
              "    </tr>\n",
              "    <tr>\n",
              "      <th>249</th>\n",
              "      <td>710</td>\n",
              "      <td>0</td>\n",
              "    </tr>\n",
              "    <tr>\n",
              "      <th>250</th>\n",
              "      <td>531</td>\n",
              "      <td>0</td>\n",
              "    </tr>\n",
              "    <tr>\n",
              "      <th>251</th>\n",
              "      <td>666</td>\n",
              "      <td>1</td>\n",
              "    </tr>\n",
              "    <tr>\n",
              "      <th>252</th>\n",
              "      <td>252</td>\n",
              "      <td>0</td>\n",
              "    </tr>\n",
              "    <tr>\n",
              "      <th>253</th>\n",
              "      <td>293</td>\n",
              "      <td>0</td>\n",
              "    </tr>\n",
              "  </tbody>\n",
              "</table>\n",
              "<p>254 rows × 2 columns</p>\n",
              "</div>"
            ],
            "text/plain": [
              "     index  outcome\n",
              "0      661        1\n",
              "1      122        0\n",
              "2      113        1\n",
              "3       14        1\n",
              "4      529        0\n",
              "..     ...      ...\n",
              "249    710        0\n",
              "250    531        0\n",
              "251    666        1\n",
              "252    252        0\n",
              "253    293        0\n",
              "\n",
              "[254 rows x 2 columns]"
            ]
          },
          "metadata": {
            "tags": []
          },
          "execution_count": 97
        }
      ]
    },
    {
      "cell_type": "code",
      "metadata": {
        "id": "9bEfry1OEDZp"
      },
      "source": [
        "y_test=y_test.reset_index(drop=True)"
      ],
      "execution_count": 98,
      "outputs": []
    },
    {
      "cell_type": "code",
      "metadata": {
        "id": "OIF8wdcDEftY",
        "outputId": "43b7a504-3a55-491a-8a57-838acac32180",
        "colab": {
          "base_uri": "https://localhost:8080/",
          "height": 221
        }
      },
      "source": [
        "y_test"
      ],
      "execution_count": 99,
      "outputs": [
        {
          "output_type": "execute_result",
          "data": {
            "text/plain": [
              "0      1\n",
              "1      0\n",
              "2      1\n",
              "3      1\n",
              "4      0\n",
              "      ..\n",
              "249    0\n",
              "250    0\n",
              "251    1\n",
              "252    0\n",
              "253    0\n",
              "Name: outcome, Length: 254, dtype: int64"
            ]
          },
          "metadata": {
            "tags": []
          },
          "execution_count": 99
        }
      ]
    },
    {
      "cell_type": "code",
      "metadata": {
        "id": "stQ12WEawdP0",
        "outputId": "a44ba807-85de-4f3f-a738-c6ad068135c1",
        "colab": {
          "base_uri": "https://localhost:8080/",
          "height": 238
        }
      },
      "source": [
        "x_test"
      ],
      "execution_count": 100,
      "outputs": [
        {
          "output_type": "execute_result",
          "data": {
            "text/plain": [
              "array([[ 1.23423997,  1.49066849,  2.77722598, ...,  0.74822213,\n",
              "        -0.92572132,  0.83280301],\n",
              "       [ 0.343683  ,  0.34015109,  0.62781502, ..., -0.82268071,\n",
              "        -0.86233106,  3.04658036],\n",
              "       [ 0.93738765,  1.26056501, -1.52159594, ..., -0.28450103,\n",
              "         0.35113961,  0.49222188],\n",
              "       ...,\n",
              "       [ 1.82794462, -0.35015934, -0.1988815 , ..., -0.72086293,\n",
              "        -0.99816733,  0.57736716],\n",
              "       [-1.14057861, -1.17195748, -0.3642208 , ...,  0.48640499,\n",
              "        -0.7053647 , -0.69981207],\n",
              "       [-1.14057861,  1.29343693, -1.85227454, ..., -1.53540514,\n",
              "        -0.65706736,  2.70599923]])"
            ]
          },
          "metadata": {
            "tags": []
          },
          "execution_count": 100
        }
      ]
    },
    {
      "cell_type": "markdown",
      "metadata": {
        "id": "J-8H99EieaJA"
      },
      "source": [
        "- Logistic Regression kullanarak datamızı x_train ve y_train ile train(fit) ediyoruz\n"
      ]
    },
    {
      "cell_type": "code",
      "metadata": {
        "id": "eUSw20xRwhaU"
      },
      "source": [
        "from sklearn.linear_model import LogisticRegression \n",
        "\n",
        "log_reg=LogisticRegression(random_state=0)\n",
        "\n",
        "log_reg.fit(x_train,y_train)"
      ],
      "execution_count": null,
      "outputs": []
    },
    {
      "cell_type": "markdown",
      "metadata": {
        "id": "V5yazbPperQq"
      },
      "source": [
        "- x_test datamızı kullanarak predict metodu ile modelimizi test ediyoruz\n",
        "\n",
        "- Yani prediction değerleri elde ederiz"
      ]
    },
    {
      "cell_type": "code",
      "metadata": {
        "id": "HWDWmzeGw4ky"
      },
      "source": [
        "y_pred=log_reg.predict(x_test)"
      ],
      "execution_count": 102,
      "outputs": []
    },
    {
      "cell_type": "code",
      "metadata": {
        "id": "QLu-MPioAWjr",
        "outputId": "9b8c24ec-8431-4b15-991a-0e6bc29a63c5",
        "colab": {
          "base_uri": "https://localhost:8080/",
          "height": 221
        }
      },
      "source": [
        "y_pred"
      ],
      "execution_count": 103,
      "outputs": [
        {
          "output_type": "execute_result",
          "data": {
            "text/plain": [
              "array([1, 0, 1, 0, 0, 0, 1, 0, 0, 0, 0, 0, 0, 0, 0, 0, 0, 1, 1, 0, 0, 0,\n",
              "       0, 0, 1, 1, 0, 0, 0, 0, 1, 0, 0, 1, 0, 1, 0, 0, 0, 1, 0, 1, 0, 0,\n",
              "       0, 0, 0, 1, 0, 1, 1, 0, 0, 0, 0, 0, 1, 0, 0, 0, 1, 0, 0, 1, 0, 1,\n",
              "       0, 0, 0, 1, 0, 1, 0, 0, 1, 0, 1, 0, 0, 0, 0, 0, 1, 0, 0, 0, 0, 0,\n",
              "       1, 0, 1, 0, 1, 0, 1, 0, 0, 0, 1, 0, 0, 0, 1, 0, 0, 0, 0, 0, 1, 0,\n",
              "       1, 1, 0, 0, 0, 0, 1, 1, 0, 0, 0, 1, 1, 0, 0, 0, 1, 1, 0, 0, 1, 0,\n",
              "       1, 0, 0, 0, 0, 0, 0, 0, 1, 0, 0, 0, 0, 0, 1, 0, 1, 0, 0, 1, 0, 0,\n",
              "       1, 0, 0, 0, 1, 0, 0, 0, 0, 0, 0, 0, 0, 0, 0, 0, 1, 0, 0, 1, 0, 0,\n",
              "       1, 1, 0, 0, 1, 1, 0, 0, 0, 0, 0, 0, 0, 0, 0, 0, 0, 0, 0, 0, 0, 0,\n",
              "       0, 1, 0, 0, 1, 0, 0, 0, 0, 0, 0, 0, 1, 0, 1, 0, 0, 0, 1, 0, 1, 0,\n",
              "       0, 0, 1, 0, 1, 0, 0, 0, 1, 1, 0, 0, 0, 0, 0, 0, 0, 0, 1, 0, 1, 0,\n",
              "       0, 0, 1, 0, 0, 0, 0, 0, 0, 0, 0, 0])"
            ]
          },
          "metadata": {
            "tags": []
          },
          "execution_count": 103
        }
      ]
    },
    {
      "cell_type": "markdown",
      "metadata": {
        "id": "8al4NKqpfcm3"
      },
      "source": [
        "- Confusion Matrix oluşturuyoruz"
      ]
    },
    {
      "cell_type": "code",
      "metadata": {
        "id": "1izWtatDxBfG",
        "outputId": "d4646714-291f-4bb0-d15a-4a6b48cd3479",
        "colab": {
          "base_uri": "https://localhost:8080/",
          "height": 68
        }
      },
      "source": [
        "from sklearn.metrics import confusion_matrix\n",
        "\n",
        "cm=confusion_matrix(y_test,y_pred)\n",
        "\n",
        "print(\"Confusion Matrix:\\n\",cm)"
      ],
      "execution_count": 109,
      "outputs": [
        {
          "output_type": "stream",
          "text": [
            "Confusion Matrix:\n",
            " [[152  24]\n",
            " [ 36  42]]\n"
          ],
          "name": "stdout"
        }
      ]
    },
    {
      "cell_type": "markdown",
      "metadata": {
        "id": "UwZAfFR2FPaJ"
      },
      "source": [
        "- Prediction(tahminler), y_test verilerimiz ile test ediyoruz.\n",
        "\n",
        "- For döngüsü ile İlk 25 veriyi deniyoruz \n",
        "\n",
        "- True_pre ve False_pre adında 2 tane list oluşturuyorum\n",
        "\n",
        "- True_pre içerisine doğru prediction yapılan verilerin satır sayısını ekliyoruz\n",
        "\n",
        "- False_pre içerisine de yanlış prediction yapılan verilerin satır sayılarını ekliyoruz "
      ]
    },
    {
      "cell_type": "code",
      "metadata": {
        "id": "uZFvWtHlODPx",
        "outputId": "7acc7d54-38fe-4098-be49-d92bb4a1837d",
        "colab": {
          "base_uri": "https://localhost:8080/",
          "height": 1000
        }
      },
      "source": [
        "True_pre=[]\n",
        "False_pre=[]\n",
        "\n",
        "for i in range(25):\n",
        "  print(\"y_test= {} - Prediction= {}\".format(y_test[i],y_pred[i]))\n",
        "  if y_test[i] == y_pred[i]:\n",
        "    print(\"True Prediction\\n\")\n",
        "    True_pre.append(i)\n",
        "  else:\n",
        "    print(\"False Prediction\\n\")\n",
        "    False_pre.append(i)"
      ],
      "execution_count": 116,
      "outputs": [
        {
          "output_type": "stream",
          "text": [
            "y_test= 1 - Prediction= 1\n",
            "True Prediction\n",
            "\n",
            "y_test= 0 - Prediction= 0\n",
            "True Prediction\n",
            "\n",
            "y_test= 1 - Prediction= 1\n",
            "True Prediction\n",
            "\n",
            "y_test= 1 - Prediction= 0\n",
            "False Prediction\n",
            "\n",
            "y_test= 0 - Prediction= 0\n",
            "True Prediction\n",
            "\n",
            "y_test= 0 - Prediction= 0\n",
            "True Prediction\n",
            "\n",
            "y_test= 1 - Prediction= 1\n",
            "True Prediction\n",
            "\n",
            "y_test= 0 - Prediction= 0\n",
            "True Prediction\n",
            "\n",
            "y_test= 0 - Prediction= 0\n",
            "True Prediction\n",
            "\n",
            "y_test= 0 - Prediction= 0\n",
            "True Prediction\n",
            "\n",
            "y_test= 0 - Prediction= 0\n",
            "True Prediction\n",
            "\n",
            "y_test= 0 - Prediction= 0\n",
            "True Prediction\n",
            "\n",
            "y_test= 0 - Prediction= 0\n",
            "True Prediction\n",
            "\n",
            "y_test= 0 - Prediction= 0\n",
            "True Prediction\n",
            "\n",
            "y_test= 0 - Prediction= 0\n",
            "True Prediction\n",
            "\n",
            "y_test= 0 - Prediction= 0\n",
            "True Prediction\n",
            "\n",
            "y_test= 0 - Prediction= 0\n",
            "True Prediction\n",
            "\n",
            "y_test= 1 - Prediction= 1\n",
            "True Prediction\n",
            "\n",
            "y_test= 1 - Prediction= 1\n",
            "True Prediction\n",
            "\n",
            "y_test= 1 - Prediction= 0\n",
            "False Prediction\n",
            "\n",
            "y_test= 0 - Prediction= 0\n",
            "True Prediction\n",
            "\n",
            "y_test= 0 - Prediction= 0\n",
            "True Prediction\n",
            "\n",
            "y_test= 0 - Prediction= 0\n",
            "True Prediction\n",
            "\n",
            "y_test= 0 - Prediction= 0\n",
            "True Prediction\n",
            "\n",
            "y_test= 0 - Prediction= 1\n",
            "False Prediction\n",
            "\n"
          ],
          "name": "stdout"
        }
      ]
    },
    {
      "cell_type": "markdown",
      "metadata": {
        "id": "N7V-o693gT-O"
      },
      "source": [
        "- Aşağıda göreceğimiz gibi hangi satırlarda ki değerler de True prediction yapmış hangi satırlarda False Prediction yapmış görüyoruz"
      ]
    },
    {
      "cell_type": "code",
      "metadata": {
        "id": "oxYnUfFrGywx",
        "outputId": "4d883766-6684-4baf-d241-ef5e3d9f257e",
        "colab": {
          "base_uri": "https://localhost:8080/",
          "height": 102
        }
      },
      "source": [
        "print(\"True Prediction= \\n{}\\n\".format(True_pre))\n",
        "print(\"False Prediction= \\n{}\".format(False_pre))"
      ],
      "execution_count": 122,
      "outputs": [
        {
          "output_type": "stream",
          "text": [
            "True Prediction= \n",
            "[0, 1, 2, 4, 5, 6, 7, 8, 9, 10, 11, 12, 13, 14, 15, 16, 17, 18, 20, 21, 22, 23]\n",
            "\n",
            "False Prediction= \n",
            "[3, 19, 24]\n"
          ],
          "name": "stdout"
        }
      ]
    },
    {
      "cell_type": "markdown",
      "metadata": {
        "id": "_1dtVMMElqEB"
      },
      "source": [
        "- İlk 25 veride yapılan True prediction ve False Prediction başarı oranlarını hesapladım\n",
        "\n",
        "- t_num ve f_num tanımladım.\n",
        "\n",
        "- t_num = Yapılan Doğru tahminlerin sayısı\n",
        "\n",
        "- f_num= Yapılan Yanlış tahminlerin sayısı\n",
        "\n",
        "- Numpy kullanarak yüzdelik hesabı yaptım\n",
        "\n",
        "- True Prediction için true_rate , False Prediction için false_rate hesapladım"
      ]
    },
    {
      "cell_type": "code",
      "metadata": {
        "id": "Ee2flWKIHbaX"
      },
      "source": [
        "t_num=len(True_pre)\n",
        "f_num=len(False_pre)"
      ],
      "execution_count": 123,
      "outputs": []
    },
    {
      "cell_type": "code",
      "metadata": {
        "id": "wtgbEx-hIK0y"
      },
      "source": [
        "true_rate=np.dot((np.divide(t_num,25)),100)\n",
        "\n",
        "false_rate=np.dot((np.divide(f_num,25)),100)"
      ],
      "execution_count": 130,
      "outputs": []
    },
    {
      "cell_type": "markdown",
      "metadata": {
        "id": "-_hdDQuunLfK"
      },
      "source": [
        "- True Prediction oranını ve False Prediction oranını aşağıda göreceksiniz\n"
      ]
    },
    {
      "cell_type": "code",
      "metadata": {
        "id": "kCA6OiodIaZG",
        "outputId": "3473c603-78c3-4b9e-a49e-537e67242720",
        "colab": {
          "base_uri": "https://localhost:8080/",
          "height": 68
        }
      },
      "source": [
        "print(\"True Prediction Rate = {}\\n\".format(true_rate))\n",
        "print(\"False Prediction Rate = {}\".format(false_rate))"
      ],
      "execution_count": 133,
      "outputs": [
        {
          "output_type": "stream",
          "text": [
            "True Prediction Rate = 88.0\n",
            "\n",
            "False Prediction Rate = 12.0\n"
          ],
          "name": "stdout"
        }
      ]
    },
    {
      "cell_type": "markdown",
      "metadata": {
        "id": "szZ2y-QinV3q"
      },
      "source": [
        "- Diabet hasta sınıflandırılmasını Sinir Ağı kullanarak yapacağız.\n",
        "\n",
        "- Tensorflow kullancağız"
      ]
    },
    {
      "cell_type": "code",
      "metadata": {
        "id": "8H-5FAi1ApB0"
      },
      "source": [
        "import tensorflow as tf "
      ],
      "execution_count": 134,
      "outputs": []
    },
    {
      "cell_type": "markdown",
      "metadata": {
        "id": "2TRBi--bnhQG"
      },
      "source": [
        "- 4 hidden layer,katmanları 256,128 olan bir sinir ağı oluşturduk\n",
        "\n",
        "- Overfitting'i engellemek için 2 kez Droput uyguladık.Biri 0.25 oranında biri ise 0.5 oranında \n",
        "\n",
        "- Activasyon fonksiyonu olarak 'relu' kullandık\n",
        "\n",
        "- Son hidden layer'da aktivasyon fonskyionu olarak 'Sigmoid' kullandık.Bunun sebebi,Biz 0-1'lerden oluşan bir sınıflandırma yapıyoruz.Sigmoid de bize 0 ile 1 arasında probabilitik değerler döndürür\n",
        "\n",
        "- Optimizer olarak 'adam' kullandık\n",
        "\n",
        "- loss fonksiyonu olarak 'Binary_crossentropy' kullandık.Biz 0-1 sınıflandırma yapacağız.Yanı binary bir sınıflandırma yapacagız.O yüzden binary_crossentropy kullandık\n",
        "\n",
        "- Metrics ölçüm parametmerimiz 'accuracy'\n",
        "\n",
        "- Eğitim sayısını(epochs) 50 olarak belirledik"
      ]
    },
    {
      "cell_type": "code",
      "metadata": {
        "id": "9euy2Lc-A9-D"
      },
      "source": [
        "def Train():\n",
        "\n",
        "  model=tf.keras.models.Sequential([tf.keras.layers.Dense(units=256,activation='relu',input_dim=8),\n",
        "                                                          tf.keras.layers.Dense(units=256,activation='relu'),\n",
        "                                                          tf.keras.layers.Dense(units=128,activation='relu'),\n",
        "                                                          tf.keras.layers.Dropout(0.25),\n",
        "                                                          tf.keras.layers.Dense(units=128,activation='relu'),\n",
        "                                                          tf.keras.layers.Dropout(0.5),\n",
        "                                                          tf.keras.layers.Dense(units=1,activation='sigmoid')\n",
        "                                                          ])\n",
        "  model.compile(optimizer='adam',loss='binary_crossentropy',metrics=['accuracy'])\n",
        "  \n",
        "  history=model.fit(x_train,y_train,epochs=50,validation_data=(x_test,y_test),verbose=1)\n",
        "\n",
        "  test_loss,test_acc=model.evaluate(x_test,y_test,verbose=2)\n",
        "\n",
        "  cache={\"test_loss\":test_loss,\"test_acc\":test_acc}\n",
        "\n",
        "  history={\"model\":model}\n",
        "    \n",
        "  return cache,history"
      ],
      "execution_count": 149,
      "outputs": []
    },
    {
      "cell_type": "code",
      "metadata": {
        "id": "pTHmprE3DM7i",
        "outputId": "cfdea3d6-b3d3-4f7e-f093-fdcf94b1be79",
        "colab": {
          "base_uri": "https://localhost:8080/",
          "height": 1000
        }
      },
      "source": [
        "cache,history=Train()"
      ],
      "execution_count": 150,
      "outputs": [
        {
          "output_type": "stream",
          "text": [
            "Epoch 1/50\n",
            "17/17 [==============================] - 0s 14ms/step - loss: 0.6099 - accuracy: 0.6842 - val_loss: 0.4659 - val_accuracy: 0.7677\n",
            "Epoch 2/50\n",
            "17/17 [==============================] - 0s 5ms/step - loss: 0.5000 - accuracy: 0.7583 - val_loss: 0.4502 - val_accuracy: 0.7559\n",
            "Epoch 3/50\n",
            "17/17 [==============================] - 0s 5ms/step - loss: 0.4675 - accuracy: 0.7739 - val_loss: 0.4441 - val_accuracy: 0.7756\n",
            "Epoch 4/50\n",
            "17/17 [==============================] - 0s 5ms/step - loss: 0.4465 - accuracy: 0.7953 - val_loss: 0.4480 - val_accuracy: 0.7638\n",
            "Epoch 5/50\n",
            "17/17 [==============================] - 0s 5ms/step - loss: 0.4315 - accuracy: 0.8070 - val_loss: 0.4579 - val_accuracy: 0.7638\n",
            "Epoch 6/50\n",
            "17/17 [==============================] - 0s 6ms/step - loss: 0.4374 - accuracy: 0.8109 - val_loss: 0.4616 - val_accuracy: 0.7638\n",
            "Epoch 7/50\n",
            "17/17 [==============================] - 0s 5ms/step - loss: 0.4126 - accuracy: 0.8031 - val_loss: 0.4666 - val_accuracy: 0.7756\n",
            "Epoch 8/50\n",
            "17/17 [==============================] - 0s 6ms/step - loss: 0.4187 - accuracy: 0.8012 - val_loss: 0.4557 - val_accuracy: 0.7795\n",
            "Epoch 9/50\n",
            "17/17 [==============================] - 0s 5ms/step - loss: 0.4145 - accuracy: 0.8168 - val_loss: 0.4739 - val_accuracy: 0.7598\n",
            "Epoch 10/50\n",
            "17/17 [==============================] - 0s 5ms/step - loss: 0.3932 - accuracy: 0.8031 - val_loss: 0.5000 - val_accuracy: 0.7677\n",
            "Epoch 11/50\n",
            "17/17 [==============================] - 0s 5ms/step - loss: 0.3756 - accuracy: 0.8187 - val_loss: 0.5005 - val_accuracy: 0.7402\n",
            "Epoch 12/50\n",
            "17/17 [==============================] - 0s 5ms/step - loss: 0.3898 - accuracy: 0.8324 - val_loss: 0.5069 - val_accuracy: 0.7717\n",
            "Epoch 13/50\n",
            "17/17 [==============================] - 0s 5ms/step - loss: 0.3949 - accuracy: 0.8109 - val_loss: 0.5054 - val_accuracy: 0.7520\n",
            "Epoch 14/50\n",
            "17/17 [==============================] - 0s 5ms/step - loss: 0.3716 - accuracy: 0.8285 - val_loss: 0.5086 - val_accuracy: 0.7480\n",
            "Epoch 15/50\n",
            "17/17 [==============================] - 0s 5ms/step - loss: 0.4042 - accuracy: 0.8168 - val_loss: 0.4932 - val_accuracy: 0.7717\n",
            "Epoch 16/50\n",
            "17/17 [==============================] - 0s 5ms/step - loss: 0.3700 - accuracy: 0.8246 - val_loss: 0.5009 - val_accuracy: 0.7756\n",
            "Epoch 17/50\n",
            "17/17 [==============================] - 0s 5ms/step - loss: 0.4070 - accuracy: 0.8187 - val_loss: 0.5211 - val_accuracy: 0.7559\n",
            "Epoch 18/50\n",
            "17/17 [==============================] - 0s 5ms/step - loss: 0.3924 - accuracy: 0.8187 - val_loss: 0.4903 - val_accuracy: 0.7835\n",
            "Epoch 19/50\n",
            "17/17 [==============================] - 0s 5ms/step - loss: 0.3608 - accuracy: 0.8382 - val_loss: 0.5041 - val_accuracy: 0.7874\n",
            "Epoch 20/50\n",
            "17/17 [==============================] - 0s 5ms/step - loss: 0.3455 - accuracy: 0.8324 - val_loss: 0.5030 - val_accuracy: 0.7835\n",
            "Epoch 21/50\n",
            "17/17 [==============================] - 0s 5ms/step - loss: 0.3176 - accuracy: 0.8577 - val_loss: 0.5371 - val_accuracy: 0.7913\n",
            "Epoch 22/50\n",
            "17/17 [==============================] - 0s 5ms/step - loss: 0.3168 - accuracy: 0.8480 - val_loss: 0.5434 - val_accuracy: 0.8031\n",
            "Epoch 23/50\n",
            "17/17 [==============================] - 0s 5ms/step - loss: 0.3037 - accuracy: 0.8655 - val_loss: 0.5653 - val_accuracy: 0.7795\n",
            "Epoch 24/50\n",
            "17/17 [==============================] - 0s 5ms/step - loss: 0.2878 - accuracy: 0.8655 - val_loss: 0.5999 - val_accuracy: 0.7913\n",
            "Epoch 25/50\n",
            "17/17 [==============================] - 0s 5ms/step - loss: 0.2610 - accuracy: 0.8869 - val_loss: 0.5888 - val_accuracy: 0.7913\n",
            "Epoch 26/50\n",
            "17/17 [==============================] - 0s 5ms/step - loss: 0.2519 - accuracy: 0.8928 - val_loss: 0.7053 - val_accuracy: 0.7795\n",
            "Epoch 27/50\n",
            "17/17 [==============================] - 0s 5ms/step - loss: 0.2552 - accuracy: 0.8967 - val_loss: 0.6626 - val_accuracy: 0.7677\n",
            "Epoch 28/50\n",
            "17/17 [==============================] - 0s 5ms/step - loss: 0.2985 - accuracy: 0.8713 - val_loss: 0.5886 - val_accuracy: 0.7756\n",
            "Epoch 29/50\n",
            "17/17 [==============================] - 0s 5ms/step - loss: 0.2494 - accuracy: 0.8850 - val_loss: 0.6681 - val_accuracy: 0.7795\n",
            "Epoch 30/50\n",
            "17/17 [==============================] - 0s 5ms/step - loss: 0.2363 - accuracy: 0.9025 - val_loss: 0.6620 - val_accuracy: 0.7874\n",
            "Epoch 31/50\n",
            "17/17 [==============================] - 0s 5ms/step - loss: 0.2044 - accuracy: 0.9201 - val_loss: 0.7518 - val_accuracy: 0.7795\n",
            "Epoch 32/50\n",
            "17/17 [==============================] - 0s 5ms/step - loss: 0.1977 - accuracy: 0.9162 - val_loss: 0.7105 - val_accuracy: 0.7953\n",
            "Epoch 33/50\n",
            "17/17 [==============================] - 0s 5ms/step - loss: 0.1773 - accuracy: 0.9298 - val_loss: 0.8383 - val_accuracy: 0.7874\n",
            "Epoch 34/50\n",
            "17/17 [==============================] - 0s 5ms/step - loss: 0.1860 - accuracy: 0.9318 - val_loss: 0.8142 - val_accuracy: 0.7717\n",
            "Epoch 35/50\n",
            "17/17 [==============================] - 0s 5ms/step - loss: 0.2043 - accuracy: 0.9220 - val_loss: 0.8344 - val_accuracy: 0.7756\n",
            "Epoch 36/50\n",
            "17/17 [==============================] - 0s 5ms/step - loss: 0.1630 - accuracy: 0.9337 - val_loss: 0.8204 - val_accuracy: 0.7756\n",
            "Epoch 37/50\n",
            "17/17 [==============================] - 0s 6ms/step - loss: 0.1439 - accuracy: 0.9376 - val_loss: 0.9063 - val_accuracy: 0.7756\n",
            "Epoch 38/50\n",
            "17/17 [==============================] - 0s 5ms/step - loss: 0.1612 - accuracy: 0.9396 - val_loss: 0.8355 - val_accuracy: 0.7756\n",
            "Epoch 39/50\n",
            "17/17 [==============================] - 0s 5ms/step - loss: 0.1261 - accuracy: 0.9435 - val_loss: 0.9318 - val_accuracy: 0.7795\n",
            "Epoch 40/50\n",
            "17/17 [==============================] - 0s 5ms/step - loss: 0.1062 - accuracy: 0.9688 - val_loss: 1.0607 - val_accuracy: 0.7835\n",
            "Epoch 41/50\n",
            "17/17 [==============================] - 0s 5ms/step - loss: 0.1047 - accuracy: 0.9591 - val_loss: 1.0848 - val_accuracy: 0.7559\n",
            "Epoch 42/50\n",
            "17/17 [==============================] - 0s 6ms/step - loss: 0.1270 - accuracy: 0.9493 - val_loss: 1.1654 - val_accuracy: 0.7677\n",
            "Epoch 43/50\n",
            "17/17 [==============================] - 0s 5ms/step - loss: 0.1753 - accuracy: 0.9201 - val_loss: 1.0137 - val_accuracy: 0.7874\n",
            "Epoch 44/50\n",
            "17/17 [==============================] - 0s 5ms/step - loss: 0.1018 - accuracy: 0.9610 - val_loss: 1.1571 - val_accuracy: 0.7835\n",
            "Epoch 45/50\n",
            "17/17 [==============================] - 0s 5ms/step - loss: 0.2616 - accuracy: 0.9181 - val_loss: 0.8950 - val_accuracy: 0.7559\n",
            "Epoch 46/50\n",
            "17/17 [==============================] - 0s 5ms/step - loss: 0.1724 - accuracy: 0.9318 - val_loss: 1.0353 - val_accuracy: 0.7638\n",
            "Epoch 47/50\n",
            "17/17 [==============================] - 0s 5ms/step - loss: 0.1058 - accuracy: 0.9610 - val_loss: 1.1135 - val_accuracy: 0.7717\n",
            "Epoch 48/50\n",
            "17/17 [==============================] - 0s 5ms/step - loss: 0.0946 - accuracy: 0.9727 - val_loss: 1.1991 - val_accuracy: 0.7598\n",
            "Epoch 49/50\n",
            "17/17 [==============================] - 0s 5ms/step - loss: 0.0738 - accuracy: 0.9727 - val_loss: 1.2547 - val_accuracy: 0.7559\n",
            "Epoch 50/50\n",
            "17/17 [==============================] - 0s 5ms/step - loss: 0.0705 - accuracy: 0.9727 - val_loss: 1.3446 - val_accuracy: 0.7717\n",
            "8/8 - 0s - loss: 1.3446 - accuracy: 0.7717\n"
          ],
          "name": "stdout"
        }
      ]
    },
    {
      "cell_type": "markdown",
      "metadata": {
        "id": "jF7KSV_FpSDB"
      },
      "source": [
        "- Test Loss ve Test Acc değerlerimize bakıyoruz"
      ]
    },
    {
      "cell_type": "code",
      "metadata": {
        "id": "UsDtx5WLDwhP",
        "outputId": "216efe72-a463-459b-fb1e-ae4e6327e635",
        "colab": {
          "base_uri": "https://localhost:8080/",
          "height": 51
        }
      },
      "source": [
        "print(\"test_loss=\"+str(cache['test_loss']))\n",
        "print(\"test_acc=\"+str(cache['test_acc']))"
      ],
      "execution_count": 151,
      "outputs": [
        {
          "output_type": "stream",
          "text": [
            "test_loss=1.3445571660995483\n",
            "test_acc=0.7716535329818726\n"
          ],
          "name": "stdout"
        }
      ]
    },
    {
      "cell_type": "markdown",
      "metadata": {
        "id": "kJ7_kYuApYIi"
      },
      "source": [
        "- x_test datamızı kullanarak predicton değerleri oluşturuyoruz"
      ]
    },
    {
      "cell_type": "code",
      "metadata": {
        "id": "ZXHh35TvJPj5"
      },
      "source": [
        "model=history['model']\n",
        "\n",
        "y_pred_nn=model.predict(x_test)"
      ],
      "execution_count": 152,
      "outputs": []
    },
    {
      "cell_type": "code",
      "metadata": {
        "id": "TM2FhA_7LfZp",
        "outputId": "ef06fa92-bd06-4548-dcc0-e31bc73808e7",
        "colab": {
          "base_uri": "https://localhost:8080/",
          "height": 1000
        }
      },
      "source": [
        "y_pred_nn"
      ],
      "execution_count": 172,
      "outputs": [
        {
          "output_type": "execute_result",
          "data": {
            "text/plain": [
              "array([[ True],\n",
              "       [False],\n",
              "       [ True],\n",
              "       [False],\n",
              "       [False],\n",
              "       [ True],\n",
              "       [ True],\n",
              "       [False],\n",
              "       [False],\n",
              "       [False],\n",
              "       [False],\n",
              "       [False],\n",
              "       [False],\n",
              "       [ True],\n",
              "       [False],\n",
              "       [False],\n",
              "       [False],\n",
              "       [ True],\n",
              "       [ True],\n",
              "       [False],\n",
              "       [False],\n",
              "       [False],\n",
              "       [False],\n",
              "       [False],\n",
              "       [False],\n",
              "       [ True],\n",
              "       [False],\n",
              "       [ True],\n",
              "       [False],\n",
              "       [False],\n",
              "       [False],\n",
              "       [False],\n",
              "       [False],\n",
              "       [ True],\n",
              "       [ True],\n",
              "       [ True],\n",
              "       [False],\n",
              "       [False],\n",
              "       [False],\n",
              "       [ True],\n",
              "       [False],\n",
              "       [ True],\n",
              "       [False],\n",
              "       [False],\n",
              "       [False],\n",
              "       [False],\n",
              "       [False],\n",
              "       [ True],\n",
              "       [False],\n",
              "       [False],\n",
              "       [False],\n",
              "       [False],\n",
              "       [False],\n",
              "       [False],\n",
              "       [False],\n",
              "       [False],\n",
              "       [ True],\n",
              "       [False],\n",
              "       [False],\n",
              "       [False],\n",
              "       [ True],\n",
              "       [False],\n",
              "       [False],\n",
              "       [ True],\n",
              "       [False],\n",
              "       [False],\n",
              "       [False],\n",
              "       [False],\n",
              "       [False],\n",
              "       [False],\n",
              "       [False],\n",
              "       [False],\n",
              "       [ True],\n",
              "       [False],\n",
              "       [ True],\n",
              "       [False],\n",
              "       [ True],\n",
              "       [False],\n",
              "       [False],\n",
              "       [False],\n",
              "       [False],\n",
              "       [False],\n",
              "       [False],\n",
              "       [False],\n",
              "       [False],\n",
              "       [False],\n",
              "       [False],\n",
              "       [ True],\n",
              "       [ True],\n",
              "       [False],\n",
              "       [False],\n",
              "       [False],\n",
              "       [ True],\n",
              "       [False],\n",
              "       [ True],\n",
              "       [False],\n",
              "       [False],\n",
              "       [False],\n",
              "       [ True],\n",
              "       [False],\n",
              "       [False],\n",
              "       [False],\n",
              "       [ True],\n",
              "       [False],\n",
              "       [False],\n",
              "       [False],\n",
              "       [False],\n",
              "       [False],\n",
              "       [ True],\n",
              "       [False],\n",
              "       [ True],\n",
              "       [ True],\n",
              "       [False],\n",
              "       [ True],\n",
              "       [False],\n",
              "       [False],\n",
              "       [ True],\n",
              "       [False],\n",
              "       [False],\n",
              "       [False],\n",
              "       [False],\n",
              "       [False],\n",
              "       [ True],\n",
              "       [False],\n",
              "       [ True],\n",
              "       [False],\n",
              "       [ True],\n",
              "       [False],\n",
              "       [False],\n",
              "       [False],\n",
              "       [False],\n",
              "       [False],\n",
              "       [False],\n",
              "       [False],\n",
              "       [False],\n",
              "       [False],\n",
              "       [False],\n",
              "       [False],\n",
              "       [False],\n",
              "       [False],\n",
              "       [ True],\n",
              "       [ True],\n",
              "       [False],\n",
              "       [False],\n",
              "       [False],\n",
              "       [False],\n",
              "       [ True],\n",
              "       [False],\n",
              "       [ True],\n",
              "       [False],\n",
              "       [False],\n",
              "       [ True],\n",
              "       [False],\n",
              "       [False],\n",
              "       [ True],\n",
              "       [False],\n",
              "       [False],\n",
              "       [False],\n",
              "       [ True],\n",
              "       [False],\n",
              "       [False],\n",
              "       [False],\n",
              "       [False],\n",
              "       [ True],\n",
              "       [False],\n",
              "       [False],\n",
              "       [False],\n",
              "       [False],\n",
              "       [False],\n",
              "       [False],\n",
              "       [ True],\n",
              "       [False],\n",
              "       [ True],\n",
              "       [ True],\n",
              "       [ True],\n",
              "       [False],\n",
              "       [False],\n",
              "       [ True],\n",
              "       [False],\n",
              "       [False],\n",
              "       [False],\n",
              "       [ True],\n",
              "       [False],\n",
              "       [False],\n",
              "       [False],\n",
              "       [False],\n",
              "       [False],\n",
              "       [False],\n",
              "       [False],\n",
              "       [False],\n",
              "       [False],\n",
              "       [False],\n",
              "       [False],\n",
              "       [ True],\n",
              "       [False],\n",
              "       [False],\n",
              "       [False],\n",
              "       [False],\n",
              "       [False],\n",
              "       [ True],\n",
              "       [False],\n",
              "       [False],\n",
              "       [ True],\n",
              "       [False],\n",
              "       [False],\n",
              "       [False],\n",
              "       [ True],\n",
              "       [False],\n",
              "       [False],\n",
              "       [False],\n",
              "       [ True],\n",
              "       [False],\n",
              "       [ True],\n",
              "       [False],\n",
              "       [False],\n",
              "       [False],\n",
              "       [ True],\n",
              "       [False],\n",
              "       [ True],\n",
              "       [False],\n",
              "       [False],\n",
              "       [False],\n",
              "       [ True],\n",
              "       [False],\n",
              "       [ True],\n",
              "       [ True],\n",
              "       [False],\n",
              "       [ True],\n",
              "       [ True],\n",
              "       [ True],\n",
              "       [False],\n",
              "       [False],\n",
              "       [False],\n",
              "       [False],\n",
              "       [False],\n",
              "       [False],\n",
              "       [False],\n",
              "       [False],\n",
              "       [ True],\n",
              "       [False],\n",
              "       [ True],\n",
              "       [False],\n",
              "       [ True],\n",
              "       [False],\n",
              "       [ True],\n",
              "       [False],\n",
              "       [False],\n",
              "       [ True],\n",
              "       [False],\n",
              "       [False],\n",
              "       [False],\n",
              "       [False],\n",
              "       [False],\n",
              "       [False]])"
            ]
          },
          "metadata": {
            "tags": []
          },
          "execution_count": 172
        }
      ]
    },
    {
      "cell_type": "markdown",
      "metadata": {
        "id": "fUGJ2jGhpm63"
      },
      "source": [
        "- Sigmoid fonksiyonu bize 0-1 arasında değerler döndürüyordu\n",
        "\n",
        "- Bu yüzden y_pred_nn datasında 0-1 arasında olan değerler vardır\n",
        "\n",
        "- Ama bizim verimizi test etmek için ya 0 ya da 1 olması lazım.Bu yüzden bizde > 0.5 işlemi yaparak ;\n",
        "\n",
        "    -- 0.5 ' den büyük değerler için 1 \n",
        "\n",
        "    -- 0.5 ' den küçük değerler için 0 olmasını istedik\n",
        "\n",
        "- Bize 0-1 değerler döndürmüyor . True -False Boolean değerler döndürüyor\n",
        "\n",
        "   -- 1 için True \n",
        "\n",
        "   -- 0 için False döndürüyor"
      ]
    },
    {
      "cell_type": "code",
      "metadata": {
        "id": "62-WIP2JNB0E"
      },
      "source": [
        "y_pred_nn = y_pred_nn > 0.5"
      ],
      "execution_count": 160,
      "outputs": []
    },
    {
      "cell_type": "code",
      "metadata": {
        "id": "jAd9-KxxNiYd",
        "outputId": "f19077a3-1f9f-4f9d-aa51-187d58878032",
        "colab": {
          "base_uri": "https://localhost:8080/",
          "height": 1000
        }
      },
      "source": [
        "y_pred_nn"
      ],
      "execution_count": 173,
      "outputs": [
        {
          "output_type": "execute_result",
          "data": {
            "text/plain": [
              "array([[ True],\n",
              "       [False],\n",
              "       [ True],\n",
              "       [False],\n",
              "       [False],\n",
              "       [ True],\n",
              "       [ True],\n",
              "       [False],\n",
              "       [False],\n",
              "       [False],\n",
              "       [False],\n",
              "       [False],\n",
              "       [False],\n",
              "       [ True],\n",
              "       [False],\n",
              "       [False],\n",
              "       [False],\n",
              "       [ True],\n",
              "       [ True],\n",
              "       [False],\n",
              "       [False],\n",
              "       [False],\n",
              "       [False],\n",
              "       [False],\n",
              "       [False],\n",
              "       [ True],\n",
              "       [False],\n",
              "       [ True],\n",
              "       [False],\n",
              "       [False],\n",
              "       [False],\n",
              "       [False],\n",
              "       [False],\n",
              "       [ True],\n",
              "       [ True],\n",
              "       [ True],\n",
              "       [False],\n",
              "       [False],\n",
              "       [False],\n",
              "       [ True],\n",
              "       [False],\n",
              "       [ True],\n",
              "       [False],\n",
              "       [False],\n",
              "       [False],\n",
              "       [False],\n",
              "       [False],\n",
              "       [ True],\n",
              "       [False],\n",
              "       [False],\n",
              "       [False],\n",
              "       [False],\n",
              "       [False],\n",
              "       [False],\n",
              "       [False],\n",
              "       [False],\n",
              "       [ True],\n",
              "       [False],\n",
              "       [False],\n",
              "       [False],\n",
              "       [ True],\n",
              "       [False],\n",
              "       [False],\n",
              "       [ True],\n",
              "       [False],\n",
              "       [False],\n",
              "       [False],\n",
              "       [False],\n",
              "       [False],\n",
              "       [False],\n",
              "       [False],\n",
              "       [False],\n",
              "       [ True],\n",
              "       [False],\n",
              "       [ True],\n",
              "       [False],\n",
              "       [ True],\n",
              "       [False],\n",
              "       [False],\n",
              "       [False],\n",
              "       [False],\n",
              "       [False],\n",
              "       [False],\n",
              "       [False],\n",
              "       [False],\n",
              "       [False],\n",
              "       [False],\n",
              "       [ True],\n",
              "       [ True],\n",
              "       [False],\n",
              "       [False],\n",
              "       [False],\n",
              "       [ True],\n",
              "       [False],\n",
              "       [ True],\n",
              "       [False],\n",
              "       [False],\n",
              "       [False],\n",
              "       [ True],\n",
              "       [False],\n",
              "       [False],\n",
              "       [False],\n",
              "       [ True],\n",
              "       [False],\n",
              "       [False],\n",
              "       [False],\n",
              "       [False],\n",
              "       [False],\n",
              "       [ True],\n",
              "       [False],\n",
              "       [ True],\n",
              "       [ True],\n",
              "       [False],\n",
              "       [ True],\n",
              "       [False],\n",
              "       [False],\n",
              "       [ True],\n",
              "       [False],\n",
              "       [False],\n",
              "       [False],\n",
              "       [False],\n",
              "       [False],\n",
              "       [ True],\n",
              "       [False],\n",
              "       [ True],\n",
              "       [False],\n",
              "       [ True],\n",
              "       [False],\n",
              "       [False],\n",
              "       [False],\n",
              "       [False],\n",
              "       [False],\n",
              "       [False],\n",
              "       [False],\n",
              "       [False],\n",
              "       [False],\n",
              "       [False],\n",
              "       [False],\n",
              "       [False],\n",
              "       [False],\n",
              "       [ True],\n",
              "       [ True],\n",
              "       [False],\n",
              "       [False],\n",
              "       [False],\n",
              "       [False],\n",
              "       [ True],\n",
              "       [False],\n",
              "       [ True],\n",
              "       [False],\n",
              "       [False],\n",
              "       [ True],\n",
              "       [False],\n",
              "       [False],\n",
              "       [ True],\n",
              "       [False],\n",
              "       [False],\n",
              "       [False],\n",
              "       [ True],\n",
              "       [False],\n",
              "       [False],\n",
              "       [False],\n",
              "       [False],\n",
              "       [ True],\n",
              "       [False],\n",
              "       [False],\n",
              "       [False],\n",
              "       [False],\n",
              "       [False],\n",
              "       [False],\n",
              "       [ True],\n",
              "       [False],\n",
              "       [ True],\n",
              "       [ True],\n",
              "       [ True],\n",
              "       [False],\n",
              "       [False],\n",
              "       [ True],\n",
              "       [False],\n",
              "       [False],\n",
              "       [False],\n",
              "       [ True],\n",
              "       [False],\n",
              "       [False],\n",
              "       [False],\n",
              "       [False],\n",
              "       [False],\n",
              "       [False],\n",
              "       [False],\n",
              "       [False],\n",
              "       [False],\n",
              "       [False],\n",
              "       [False],\n",
              "       [ True],\n",
              "       [False],\n",
              "       [False],\n",
              "       [False],\n",
              "       [False],\n",
              "       [False],\n",
              "       [ True],\n",
              "       [False],\n",
              "       [False],\n",
              "       [ True],\n",
              "       [False],\n",
              "       [False],\n",
              "       [False],\n",
              "       [ True],\n",
              "       [False],\n",
              "       [False],\n",
              "       [False],\n",
              "       [ True],\n",
              "       [False],\n",
              "       [ True],\n",
              "       [False],\n",
              "       [False],\n",
              "       [False],\n",
              "       [ True],\n",
              "       [False],\n",
              "       [ True],\n",
              "       [False],\n",
              "       [False],\n",
              "       [False],\n",
              "       [ True],\n",
              "       [False],\n",
              "       [ True],\n",
              "       [ True],\n",
              "       [False],\n",
              "       [ True],\n",
              "       [ True],\n",
              "       [ True],\n",
              "       [False],\n",
              "       [False],\n",
              "       [False],\n",
              "       [False],\n",
              "       [False],\n",
              "       [False],\n",
              "       [False],\n",
              "       [False],\n",
              "       [ True],\n",
              "       [False],\n",
              "       [ True],\n",
              "       [False],\n",
              "       [ True],\n",
              "       [False],\n",
              "       [ True],\n",
              "       [False],\n",
              "       [False],\n",
              "       [ True],\n",
              "       [False],\n",
              "       [False],\n",
              "       [False],\n",
              "       [False],\n",
              "       [False],\n",
              "       [False]])"
            ]
          },
          "metadata": {
            "tags": []
          },
          "execution_count": 173
        }
      ]
    },
    {
      "cell_type": "markdown",
      "metadata": {
        "id": "YaX2zXB9quZL"
      },
      "source": [
        "- İlk 25 değer için y_test ile prediction değerlerimizi karşılaştırıyoruz"
      ]
    },
    {
      "cell_type": "code",
      "metadata": {
        "id": "qTPhrqGhMtTv",
        "outputId": "e5d6f63f-b19c-41a5-d317-a51d4497d4ab",
        "colab": {
          "base_uri": "https://localhost:8080/",
          "height": 442
        }
      },
      "source": [
        "for i in range(25):\n",
        "  print(\"y_test = {} - prediction = {}\".format(y_test[i],y_pred_nn[i]))"
      ],
      "execution_count": 162,
      "outputs": [
        {
          "output_type": "stream",
          "text": [
            "y_test = 1 - prediction = [ True]\n",
            "y_test = 0 - prediction = [False]\n",
            "y_test = 1 - prediction = [ True]\n",
            "y_test = 1 - prediction = [False]\n",
            "y_test = 0 - prediction = [False]\n",
            "y_test = 0 - prediction = [ True]\n",
            "y_test = 1 - prediction = [ True]\n",
            "y_test = 0 - prediction = [False]\n",
            "y_test = 0 - prediction = [False]\n",
            "y_test = 0 - prediction = [False]\n",
            "y_test = 0 - prediction = [False]\n",
            "y_test = 0 - prediction = [False]\n",
            "y_test = 0 - prediction = [False]\n",
            "y_test = 0 - prediction = [ True]\n",
            "y_test = 0 - prediction = [False]\n",
            "y_test = 0 - prediction = [False]\n",
            "y_test = 0 - prediction = [False]\n",
            "y_test = 1 - prediction = [ True]\n",
            "y_test = 1 - prediction = [ True]\n",
            "y_test = 1 - prediction = [False]\n",
            "y_test = 0 - prediction = [False]\n",
            "y_test = 0 - prediction = [False]\n",
            "y_test = 0 - prediction = [False]\n",
            "y_test = 0 - prediction = [False]\n",
            "y_test = 0 - prediction = [False]\n"
          ],
          "name": "stdout"
        }
      ]
    },
    {
      "cell_type": "markdown",
      "metadata": {
        "id": "09Op2Gguq24V"
      },
      "source": [
        "- Confusion Matrix Oluşturuyoruz"
      ]
    },
    {
      "cell_type": "code",
      "metadata": {
        "id": "c2S_DRaYOBgs",
        "outputId": "d5a6f12c-51e1-4416-b787-b3bd10022436",
        "colab": {
          "base_uri": "https://localhost:8080/",
          "height": 68
        }
      },
      "source": [
        "cm_nn=confusion_matrix(y_test,y_pred_nn)\n",
        "\n",
        "print(\"NN Confusion Matrix = \\n{}\".format(cm_nn))"
      ],
      "execution_count": 163,
      "outputs": [
        {
          "output_type": "stream",
          "text": [
            "NN Confusion Matrix = \n",
            "[[152  24]\n",
            " [ 34  44]]\n"
          ],
          "name": "stdout"
        }
      ]
    },
    {
      "cell_type": "code",
      "metadata": {
        "id": "115Ap1HjNpWu"
      },
      "source": [
        "from sklearn.metrics import accuracy_score\n",
        "\n",
        "accsco=accuracy_score(y_test,y_pred)"
      ],
      "execution_count": 146,
      "outputs": []
    },
    {
      "cell_type": "markdown",
      "metadata": {
        "id": "l5M7ojZCrDtN"
      },
      "source": [
        "- Validation Accuracy Score'a bakıyoruz\n"
      ]
    },
    {
      "cell_type": "code",
      "metadata": {
        "id": "VbgnxHB8N2Jm",
        "outputId": "0f2b874c-f799-488e-ec22-942887c76e6c",
        "colab": {
          "base_uri": "https://localhost:8080/",
          "height": 34
        }
      },
      "source": [
        "print(\"Val Accuracy Score = {}\".format(accsco))"
      ],
      "execution_count": 148,
      "outputs": [
        {
          "output_type": "stream",
          "text": [
            "Val Accuracy Score = 0.7637795275590551\n"
          ],
          "name": "stdout"
        }
      ]
    },
    {
      "cell_type": "markdown",
      "metadata": {
        "id": "yRTmCyPrrL8F"
      },
      "source": [
        "- Sinir Ağımız,Logistic Regression algoritmamıza göre Diabetli hasta sınıflandırılmasında daha iyi sonuç veriyor \n",
        "\n",
        "- Train accuracy score = 0.97\n",
        "\n",
        "- Test accuracy score = 0.76. Aralarında ki fark biraz fazladır.Yani bu demek oluyor ki modelimiz ezberleme yapmış.Bunu Dropout veya Regularization kullanarak engelleyebiliriz."
      ]
    }
  ]
}